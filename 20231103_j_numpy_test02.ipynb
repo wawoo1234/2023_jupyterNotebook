{
 "cells": [
  {
   "cell_type": "code",
   "execution_count": 20,
   "id": "7646336a",
   "metadata": {},
   "outputs": [
    {
     "name": "stdout",
     "output_type": "stream",
     "text": [
      "a.shape: (4,)\n",
      "a[0]: 1 \n",
      "\n",
      "b.shape: (2, 3)\n",
      "b[0,0]: 1\n",
      "b[0]: [1 2 3]\n"
     ]
    }
   ],
   "source": [
    "import numpy as np\n",
    "\n",
    "# 리스트를 생성하고 배열로 변환하기\n",
    "\n",
    "list1 = [1,2,3,4]\n",
    "a = np.array(list1)\n",
    "\n",
    "print('a.shape:', a.shape)\n",
    "print('a[0]:', a[0],\"\\n\")\n",
    "\n",
    "# 2차원 배열 생성하기 \n",
    "b = np.array([[1,2,3],[4,5,6]])\n",
    "\n",
    "print('b.shape:', b.shape)\n",
    "print('b[0,0]:',b[0,0])\n",
    "print('b[0]:',b[0])"
   ]
  },
  {
   "cell_type": "code",
   "execution_count": 19,
   "id": "9d970c06",
   "metadata": {},
   "outputs": [
    {
     "name": "stdout",
     "output_type": "stream",
     "text": [
      "a\n",
      " [0. 0.] \n",
      "\n",
      "b\n",
      " [[0. 0.]\n",
      " [0. 0.]] \n",
      "\n",
      "c\n",
      " [[1. 1. 1.]\n",
      " [1. 1. 1.]] \n",
      "\n",
      "d\n",
      " [[5 5 5]\n",
      " [5 5 5]] \n",
      "\n",
      "e\n",
      " [[1. 0. 0.]\n",
      " [0. 1. 0.]\n",
      " [0. 0. 1.]] \n",
      "\n"
     ]
    }
   ],
   "source": [
    "a = np.zeros(2)     # zeros 함수 - 0이라는 값으로 채우는 함수 \n",
    "print('a\\n',a,\"\\n\")\n",
    "\n",
    "b = np.zeros((2,2))\n",
    "print('b\\n',b,\"\\n\")\n",
    "\n",
    "c = np.ones((2,3))   # 1로 채워지는 함수 \n",
    "print('c\\n',c,\"\\n\")\n",
    "\n",
    "d = np.full((2,3),5)   # 2행3열 만드는데 5로 채워라 \n",
    "print('d\\n',d,\"\\n\")\n",
    "\n",
    "e = np.eye(3)      # 3행 3열짜리 단위행렬을 만들어라\n",
    "print('e\\n',e,\"\\n\")"
   ]
  },
  {
   "cell_type": "code",
   "execution_count": 7,
   "id": "0a561ba2",
   "metadata": {},
   "outputs": [
    {
     "name": "stdout",
     "output_type": "stream",
     "text": [
      "float64\n",
      "[1. 2.]\n",
      "int8\n",
      "[1 2]\n"
     ]
    }
   ],
   "source": [
    "# 실수형 배열 생성하기\n",
    "\n",
    "a = np.array([1,2], dtype = np.float64)   # 실수형으로 배열 생성 64개 비트(8바이트) 사용하겠다\n",
    "print(a.dtype)\n",
    "print(a)              # 실수라서 소수점 들어감 \n",
    "\n",
    "#  정수형 배열로 변환하기\n",
    "\n",
    "a_i8 = a.astype(np.int8)      \n",
    "print(a_i8.dtype)\n",
    "print(a_i8)                      # 정수형이라 소수점 없음. "
   ]
  },
  {
   "cell_type": "code",
   "execution_count": 21,
   "id": "71b24bde",
   "metadata": {},
   "outputs": [
    {
     "name": "stdout",
     "output_type": "stream",
     "text": [
      "[[0 1 2]\n",
      " [3 4 5]] \n",
      "\n",
      "type(arr): <class 'numpy.ndarray'>\n",
      "arr.ndim: 2 \n",
      "\n",
      "arr.dtype: int32\n",
      "arr.itemsize: 4 \n",
      "\n",
      "arr.size: 6\n",
      "arr.nbytes: 24 \n",
      "\n",
      "arr.T:\n",
      " [[0 3]\n",
      " [1 4]\n",
      " [2 5]]\n",
      "arr.shape: (2, 3)\n"
     ]
    }
   ],
   "source": [
    "arr = np.array([[0,1,2],[3,4,5]])\n",
    "print(arr,\"\\n\")\n",
    "\n",
    "print('type(arr):', type(arr))\n",
    "print('arr.ndim:' , arr.ndim,\"\\n\")               # 'number of dimensions, ' 배열의 차원을 나타냄\n",
    "\n",
    "print('arr.dtype:', arr.dtype)                      # 정수형태 32비트 \n",
    "print('arr.itemsize:', arr.itemsize,\"\\n\")    # 요소의 바이트 수     - 요소하나하나가 몇 바이트 \n",
    "\n",
    "print('arr.size:', arr.size)                              # 요소의 개수\n",
    "print('arr.nbytes:', arr.nbytes,\"\\n\")          # 배열 전체 바이트 수 \n",
    "\n",
    "print('arr.T:\\n', arr.T)                                   # 행렬 치환\n",
    "print('arr.shape:', arr.shape)\n"
   ]
  },
  {
   "cell_type": "code",
   "execution_count": 26,
   "id": "44eb3bda",
   "metadata": {},
   "outputs": [
    {
     "name": "stdout",
     "output_type": "stream",
     "text": [
      "a\n",
      " [0 1 2 3 4 5 6 7] \n",
      "\n",
      "shape\n",
      " [[0 1 2 3]\n",
      " [4 5 6 7]] \n",
      "\n",
      "flatten\n",
      " [0 1 2 3 4 5 6 7] \n",
      "\n",
      "resize\n",
      " [[0 1]\n",
      " [2 3]\n",
      " [4 5]\n",
      " [6 7]]\n"
     ]
    }
   ],
   "source": [
    "#  1차원 배열 생성하기 \n",
    "\n",
    "a = np.arange(8)\n",
    "print('a\\n', a,\"\\n\")\n",
    "\n",
    "\n",
    "#  다차원 배열로 변경하기 \n",
    "\n",
    "a.shape = (2,4)\n",
    "print('shape\\n', a,\"\\n\")\n",
    "\n",
    "\n",
    "#  1차원 배열로 변경하기 \n",
    "\n",
    "print('flatten\\n', a.flatten(),\"\\n\")\n",
    "\n",
    "\n",
    "#  resize 함수로 모양  변경하기 \n",
    "a.resize((4,2))      ## 튜플 형태로 입력 \n",
    "print('resize\\n', a)"
   ]
  },
  {
   "cell_type": "code",
   "execution_count": 27,
   "id": "4a4a0260",
   "metadata": {},
   "outputs": [
    {
     "name": "stdout",
     "output_type": "stream",
     "text": [
      "a\n",
      " [[0 1 2]\n",
      " [3 4 5]]\n"
     ]
    }
   ],
   "source": [
    "a = np.array([[0,1,2],[3,4,5]])\n",
    "print('a\\n',a)\n",
    "\n"
   ]
  },
  {
   "cell_type": "code",
   "execution_count": 28,
   "id": "e8ee5d72",
   "metadata": {},
   "outputs": [
    {
     "name": "stdout",
     "output_type": "stream",
     "text": [
      "[False  True  True False]\n",
      "\n",
      "data 출력 \n",
      " [[ 1.22708341  0.30990761]\n",
      " [-0.46164986  1.48365725]\n",
      " [ 1.42002572 -1.50195446]\n",
      " [ 0.54701751  0.62378626]]\n",
      "\n",
      "마스킹된 데이터 출력 \n",
      " [[-0.46164986  1.48365725]\n",
      " [ 1.42002572 -1.50195446]]\n",
      "\n",
      "마스킹 역전된 데이터 출력 \n",
      " [[1.22708341 0.30990761]\n",
      " [0.54701751 0.62378626]]\n"
     ]
    }
   ],
   "source": [
    "##  마스킹 : 논리값  인덱싱\n",
    "\n",
    "mask = np.array([0,1,1,0], dtype = bool)\n",
    "print(mask)\n",
    "\n",
    "data = np. random.randn(4,2)    ## 4행 2열 짜리 로 랜덤 값을 뽑아냄 \n",
    "print(\"\\ndata 출력 \\n\", data)\n",
    "\n",
    "print('\\n마스킹된 데이터 출력 \\n', data[mask])                 ## true 값만 뽑아냄       행방향으로 0110  false true true false     false true true false   에서 true 자리값만 \n",
    "print('\\n마스킹 역전된 데이터 출력 \\n', data[~mask])       ##  논리값 반대로 해서 true 값만 뽑아냄       "
   ]
  },
  {
   "cell_type": "code",
   "execution_count": 32,
   "id": "a915f33d",
   "metadata": {},
   "outputs": [
    {
     "name": "stdout",
     "output_type": "stream",
     "text": [
      "양수 데이터 출력 \n",
      " [1.22708341 0.30990761 1.48365725 1.42002572 0.54701751 0.62378626] \n",
      "\n",
      " 두 번째 행의 양수 데이터 출력 \n",
      " [1.48365725]\n"
     ]
    }
   ],
   "source": [
    "#  마스킹 : 조건식으로 마스킹 =============\n",
    "\n",
    "posit = data[data > 0]\n",
    "print('양수 데이터 출력' , '\\n',posit,'\\n')\n",
    "\n",
    "# 다중 조건  =================\n",
    "\n",
    "over1 = data[1][data[1]  > 0 ] \n",
    "print(' 두 번째 행의 양수 데이터 출력','\\n',over1)\n"
   ]
  },
  {
   "cell_type": "code",
   "execution_count": 38,
   "id": "3326a258",
   "metadata": {},
   "outputs": [
    {
     "name": "stdout",
     "output_type": "stream",
     "text": [
      "100 \n",
      "\n",
      "100\n",
      "200 \n",
      "\n",
      "[0 1 2 3 4 5]\n",
      "[0 1 2 3 4 5]\n",
      "True \n",
      "\n",
      "[10  1  2  3  4  5]\n"
     ]
    }
   ],
   "source": [
    "x = 100\n",
    "y=x\n",
    "print(y, '\\n')\n",
    "\n",
    "y=200\n",
    "print(x)\n",
    "print(y, '\\n')\n",
    "\n",
    "a = np.arange(6)      # 넘파이 어레이 형태로 배열 형태  (6개 ) 만들어져서 넣음\n",
    "b = a                          # b는 집이 좁으니 주소값을 넘겨줌. \n",
    "\n",
    "print(a)\n",
    "print(b)                     # 주소값을 따라가서 나온 값을 출력   - 하나를 둘이 쓰는 형태\n",
    "print(b is a , '\\n')\n",
    "\n",
    "b[0] = 10       # 주소를 따라가서 [0] 번 인덱스에 10 대입 \n",
    "print(a)"
   ]
  },
  {
   "cell_type": "code",
   "execution_count": 40,
   "id": "85d9df45",
   "metadata": {},
   "outputs": [
    {
     "name": "stdout",
     "output_type": "stream",
     "text": [
      "A:  [0 1 2 3 4 5]\n",
      "C:  [0 1 2 3 4 5] \n",
      "\n",
      "A:  [0 1 2 3 4 5]\n",
      "C:  [20  1  2  3  4  5]\n"
     ]
    }
   ],
   "source": [
    "a = np.arange(6)\n",
    "c = a.copy()            # 배열이면 똑같이  공간을 늘려서 만들어서 넣음. \n",
    "print('A: ' , a)\n",
    "print('C: ' , c, '\\n')\n",
    "\n",
    "\n",
    "c[0] = 20\n",
    "print('A: ' , a)\n",
    "print('C: ' , c)"
   ]
  },
  {
   "cell_type": "code",
   "execution_count": 46,
   "id": "d230258a",
   "metadata": {},
   "outputs": [
    {
     "name": "stdout",
     "output_type": "stream",
     "text": [
      "원본\n",
      " [3 2 5 1 4] \n",
      "\n",
      "정렬 후 \n",
      " [1 2 3 4 5] \n",
      "\n",
      "원본\n",
      " [3 2 5 1 4] \n",
      "\n",
      "정렬한 인덱스 \n",
      " [3 1 0 4 2] \n",
      "\n",
      "정렬 후 \n",
      " [1 2 3 4 5]\n"
     ]
    }
   ],
   "source": [
    "a = np.array([3,2,5,1,4])\n",
    "\n",
    "print('원본\\n', a,'\\n')\n",
    "\n",
    "print('정렬 후 \\n', np.sort(a),'\\n')      ## 배열 a는 원본 유지, a.sort(): 원본이 정렬상태로 변경\n",
    "\n",
    "print('원본\\n', a,'\\n')                  # 원본은 그대로 \n",
    "\n",
    "print('정렬한 인덱스 \\n', np.argsort(a),'\\n')   ##정렬되었을때, 각 값의 원래 인덱스 반환 \n",
    "\n",
    "a.sort()\n",
    "print('정렬 후 \\n', a)                   # 원본이 정렬되어 바뀜 \n"
   ]
  },
  {
   "cell_type": "code",
   "execution_count": null,
   "id": "23b703e4",
   "metadata": {},
   "outputs": [],
   "source": []
  }
 ],
 "metadata": {
  "kernelspec": {
   "display_name": "Python 3 (ipykernel)",
   "language": "python",
   "name": "python3"
  },
  "language_info": {
   "codemirror_mode": {
    "name": "ipython",
    "version": 3
   },
   "file_extension": ".py",
   "mimetype": "text/x-python",
   "name": "python",
   "nbconvert_exporter": "python",
   "pygments_lexer": "ipython3",
   "version": "3.10.9"
  }
 },
 "nbformat": 4,
 "nbformat_minor": 5
}
