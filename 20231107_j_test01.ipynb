{
 "cells": [
  {
   "cell_type": "code",
   "execution_count": 8,
   "id": "b9532d09",
   "metadata": {},
   "outputs": [],
   "source": [
    "import pandas as pd"
   ]
  },
  {
   "cell_type": "markdown",
   "id": "c34da206",
   "metadata": {},
   "source": [
    "gpt>\n",
    "import pandas as pd는 \n",
    "Python 프로그램에서 Pandas 라이브러리를 가져오는(import) 코드입니다. \n",
    "\n",
    "import pandas: 이 부분은 Python에서 사용할 수 있는 Pandas 라이브러리를 가져옵니다. \n",
    "\n",
    "Pandas는 데이터 분석 및 조작을 위한 강력한 라이브러리로, 표 형식의 데이터를 다루는 데 매우 유용합니다.\n",
    "Pandas를 가져오면 데이터프레임(DataFrame)과 같은 데이터 구조를 사용할 수 있습니다.\n",
    "\n",
    "as pd: 이 부분은 Pandas 라이브러리에 대해 사용할 별칭(alias)을 지정합니다. \n",
    "pd는 일반적으로 Pandas 라이브러리를 더 간편하게 참조하기 위한 관용적인 별칭입니다.\n",
    "따라서 이후의 코드에서는 \"pd\"를 사용하여 Pandas 라이브러리의 기능을 호출할 수 있습니다."
   ]
  },
  {
   "cell_type": "code",
   "execution_count": 9,
   "id": "183f8baa",
   "metadata": {},
   "outputs": [],
   "source": [
    "list1 = list([['허준호', '남자', 30, 183],\n",
    "              ['이가원', '여자', 24, 162],\n",
    "              ['배규민', '남자', 23, 179],\n",
    "              ['고고림', '남자', 21, 182],\n",
    "              ['이새봄', '여자', 28, 160],\n",
    "              ['이보람', '여자', 26, 163],\n",
    "              ['이루리', '여자', 24, 157],\n",
    "              ['오다현', '여자', 24, 172]])\n",
    "col_names = ['이름', '성별', '나이', '키']\n",
    "df = pd.DataFrame(list1, columns=col_names)"
   ]
  },
  {
   "cell_type": "markdown",
   "id": "ab04e376",
   "metadata": {},
   "source": [
    "gpt>\n",
    "\n",
    "주어진 코드는 Python 프로그램에서 Pandas 라이브러리를 사용하여 데이터프레임을 생성하는 작업을 수행합니다. \n",
    "\n",
    "list1: 이 변수는 하나의 리스트 안에 여러 리스트를 포함하는 2차원 리스트를 나타냅니다. \n",
    "각 내부 리스트는 각각의 개인에 대한 정보를 포함하며, 각 정보는 다음과 같이 순서대로 포함되어 있습니다:\n",
    "\n",
    "이름('허준호')\n",
    "성별('남자')\n",
    "나이(30)\n",
    "키(183)\n",
    "\n",
    "col_names: 이 변수는 데이터프레임의 열(column) 이름을 나타내는 리스트입니다. \n",
    "데이터프레임의 열 이름은 데이터를 식별하고 쿼리할 때 사용됩니다.\n",
    "\n",
    "pd.DataFrame(list1, columns=col_names): \n",
    "\n",
    "이 부분은 Pandas 라이브러리를 사용하여 데이터프레임을 생성하는 코드입니다.\n",
    "\n",
    "pd.DataFrame() 함수를 호출하여 데이터프레임을 만들고, 다음과 같은 매개변수들을 사용합니다:\n",
    "\n",
    "list1: 데이터프레임에 포함할 데이터를 나타냅니다. 여기서는 list1 변수의 2차원 리스트를 사용합니다.\n",
    "columns=col_names: 데이터프레임의 열 이름을 정의하는 매개변수로, col_names 변수에 저장된 열 이름 리스트를 사용합니다.\n",
    "\n",
    "이렇게 하면 df라는 데이터프레임이 생성되며, \n",
    "각 열은 '이름', '성별', '나이', '키'와 같은 열 이름을 가지며, 각 행은 '허준호', '이가원', '배규민' 등과 같은 각각의 개인 정보를 포함하게 됩니다. \n",
    "이 데이터프레임을 사용하여 데이터를 분석하고 다양한 연산을 수행할 수 있습니다."
   ]
  },
  {
   "cell_type": "code",
   "execution_count": 10,
   "id": "0bae133c",
   "metadata": {},
   "outputs": [
    {
     "data": {
      "text/html": [
       "<div>\n",
       "<style scoped>\n",
       "    .dataframe tbody tr th:only-of-type {\n",
       "        vertical-align: middle;\n",
       "    }\n",
       "\n",
       "    .dataframe tbody tr th {\n",
       "        vertical-align: top;\n",
       "    }\n",
       "\n",
       "    .dataframe thead th {\n",
       "        text-align: right;\n",
       "    }\n",
       "</style>\n",
       "<table border=\"1\" class=\"dataframe\">\n",
       "  <thead>\n",
       "    <tr style=\"text-align: right;\">\n",
       "      <th></th>\n",
       "      <th>이름</th>\n",
       "      <th>성별</th>\n",
       "      <th>나이</th>\n",
       "      <th>키</th>\n",
       "    </tr>\n",
       "  </thead>\n",
       "  <tbody>\n",
       "    <tr>\n",
       "      <th>4</th>\n",
       "      <td>이새봄</td>\n",
       "      <td>여자</td>\n",
       "      <td>28</td>\n",
       "      <td>160</td>\n",
       "    </tr>\n",
       "  </tbody>\n",
       "</table>\n",
       "</div>"
      ],
      "text/plain": [
       "    이름  성별  나이    키\n",
       "4  이새봄  여자  28  160"
      ]
     },
     "execution_count": 10,
     "metadata": {},
     "output_type": "execute_result"
    }
   ],
   "source": [
    "df[df['이름'].str.contains('봄')]"
   ]
  },
  {
   "cell_type": "markdown",
   "id": "ee7c8c8b",
   "metadata": {},
   "source": [
    "gpt>\n",
    "\n",
    "주어진 코드는 데이터프레임 (DataFrame)에서 특정 조건을 충족하는 행을 필터링하는 코드입니다. \n",
    "\n",
    "df: \n",
    "데이터프레임 객체를 나타냅니다. \n",
    "데이터프레임은 일반적으로 표 형식의 데이터를 다루는데 사용되는 Pandas 라이브러리의 자료구조입니다.\n",
    "\n",
    "df['이름']: \n",
    "데이터프레임 df에서 \"이름\"이라는 열(column)을 선택합니다. \n",
    "\"이름\" 열은 데이터프레임에서 특정 열을 나타내며, 이 열에서 데이터를 가져오는 작업을 수행합니다.\n",
    "\n",
    ".str.contains('봄'): 선택한 \"이름\" 열에서 문자열 '봄'을 포함하는 모든 행을 찾습니다.\n",
    "이 부분은 특정 문자열을 포함하는 행을 찾기 위한 검색 연산을 수행하는 것입니다.\n",
    "\n",
    "전체 코드는 \"이름\" 열에서 '봄'을 포함하는 모든 행을 필터링하여 새로운 데이터프레임을 생성합니다.\n",
    "이렇게 만들어진 데이터프레임은 '봄'을 포함하는 이름을 가진 행들만을 포함하게 됩니다.\n",
    "\n",
    "예를 들어, 만약 데이터프레임 df에 다양한 이름을 가진 행들이 있고 그 중 일부가 '봄'을 이름에 포함한다면, \n",
    "위의 코드는 '봄'을 이름에 포함하는 행만을 선택하여 새로운 데이터프레임을 만들게 됩니다."
   ]
  },
  {
   "cell_type": "code",
   "execution_count": 11,
   "id": "c3b1dbfb",
   "metadata": {},
   "outputs": [
    {
     "data": {
      "text/html": [
       "<div>\n",
       "<style scoped>\n",
       "    .dataframe tbody tr th:only-of-type {\n",
       "        vertical-align: middle;\n",
       "    }\n",
       "\n",
       "    .dataframe tbody tr th {\n",
       "        vertical-align: top;\n",
       "    }\n",
       "\n",
       "    .dataframe thead th {\n",
       "        text-align: right;\n",
       "    }\n",
       "</style>\n",
       "<table border=\"1\" class=\"dataframe\">\n",
       "  <thead>\n",
       "    <tr style=\"text-align: right;\">\n",
       "      <th></th>\n",
       "      <th>성별</th>\n",
       "      <th>나이</th>\n",
       "      <th>키</th>\n",
       "    </tr>\n",
       "    <tr>\n",
       "      <th>이름</th>\n",
       "      <th></th>\n",
       "      <th></th>\n",
       "      <th></th>\n",
       "    </tr>\n",
       "  </thead>\n",
       "  <tbody>\n",
       "    <tr>\n",
       "      <th>허준호</th>\n",
       "      <td>남자</td>\n",
       "      <td>30</td>\n",
       "      <td>183</td>\n",
       "    </tr>\n",
       "    <tr>\n",
       "      <th>이가원</th>\n",
       "      <td>여자</td>\n",
       "      <td>24</td>\n",
       "      <td>162</td>\n",
       "    </tr>\n",
       "    <tr>\n",
       "      <th>배규민</th>\n",
       "      <td>남자</td>\n",
       "      <td>23</td>\n",
       "      <td>179</td>\n",
       "    </tr>\n",
       "  </tbody>\n",
       "</table>\n",
       "</div>"
      ],
      "text/plain": [
       "     성별  나이    키\n",
       "이름              \n",
       "허준호  남자  30  183\n",
       "이가원  여자  24  162\n",
       "배규민  남자  23  179"
      ]
     },
     "execution_count": 11,
     "metadata": {},
     "output_type": "execute_result"
    }
   ],
   "source": [
    "df.set_index('이름', inplace=True)\n",
    "df.head(3)"
   ]
  },
  {
   "cell_type": "markdown",
   "id": "0d743ca6",
   "metadata": {},
   "source": [
    "gpt>\n",
    "주어진 코드는 Pandas 데이터프레임에서 인덱스(index)를 '이름' 열로 설정하고, 처음 3개 행을 출력하는 작업을 수행합니다. \n",
    "\n",
    "df.set_index('이름', inplace=True): \n",
    "이 부분은 데이터프레임 df의 인덱스를 '이름' 열로 설정하는 코드입니다.\n",
    "\n",
    "'이름': 여기서는 '이름' 열을 선택하여 새로운 인덱스로 설정합니다.\n",
    "'이름' 열은 데이터프레임의 각 행을 고유하게 식별하는 열이 될 것입니다.\n",
    "\n",
    "inplace=True: \n",
    "이 옵션은 변경 내용을 데이터프레임에 직접 적용하도록 지정합니다.\n",
    "즉, df 데이터프레임이 변경됩니다. 이 옵션을 사용하지 않으면 변경된 데이터프레임을 새로운 변수에 할당해야 합니다.\n",
    "\n",
    "df.head(3): 이 부분은 데이터프레임의 처음 3개 행을 출력합니다.\n",
    "\n",
    "head() 메서드는 데이터프레임의 상위 일부 행을 반환하며, 괄호 안에 반환할 행의 수를 지정할 수 있습니다.\n",
    "이 코드는 처음 3개 행을 반환합니다.\n",
    "\n",
    "이 코드를 실행하면 데이터프레임 df의 인덱스가 '이름' 열로 설정되며, 처음 3개 행이 화면에 출력됩니다. \n",
    "'이름' 열이 인덱스로 설정되면 해당 열의 값들을 사용하여 데이터프레임을 검색하거나 필터링하는 작업이 보다 편리해집니다."
   ]
  },
  {
   "cell_type": "code",
   "execution_count": 12,
   "id": "5ddebbd2",
   "metadata": {},
   "outputs": [
    {
     "data": {
      "text/html": [
       "<div>\n",
       "<style scoped>\n",
       "    .dataframe tbody tr th:only-of-type {\n",
       "        vertical-align: middle;\n",
       "    }\n",
       "\n",
       "    .dataframe tbody tr th {\n",
       "        vertical-align: top;\n",
       "    }\n",
       "\n",
       "    .dataframe thead th {\n",
       "        text-align: right;\n",
       "    }\n",
       "</style>\n",
       "<table border=\"1\" class=\"dataframe\">\n",
       "  <thead>\n",
       "    <tr style=\"text-align: right;\">\n",
       "      <th></th>\n",
       "      <th>성별</th>\n",
       "      <th>나이</th>\n",
       "      <th>키</th>\n",
       "      <th>보너스</th>\n",
       "    </tr>\n",
       "    <tr>\n",
       "      <th>이름</th>\n",
       "      <th></th>\n",
       "      <th></th>\n",
       "      <th></th>\n",
       "      <th></th>\n",
       "    </tr>\n",
       "  </thead>\n",
       "  <tbody>\n",
       "    <tr>\n",
       "      <th>허준호</th>\n",
       "      <td>남자</td>\n",
       "      <td>30</td>\n",
       "      <td>183</td>\n",
       "      <td>300000</td>\n",
       "    </tr>\n",
       "    <tr>\n",
       "      <th>이가원</th>\n",
       "      <td>여자</td>\n",
       "      <td>24</td>\n",
       "      <td>162</td>\n",
       "      <td>240000</td>\n",
       "    </tr>\n",
       "    <tr>\n",
       "      <th>배규민</th>\n",
       "      <td>남자</td>\n",
       "      <td>23</td>\n",
       "      <td>179</td>\n",
       "      <td>230000</td>\n",
       "    </tr>\n",
       "  </tbody>\n",
       "</table>\n",
       "</div>"
      ],
      "text/plain": [
       "     성별  나이    키     보너스\n",
       "이름                      \n",
       "허준호  남자  30  183  300000\n",
       "이가원  여자  24  162  240000\n",
       "배규민  남자  23  179  230000"
      ]
     },
     "execution_count": 12,
     "metadata": {},
     "output_type": "execute_result"
    }
   ],
   "source": [
    "df['보너스'] = df [ '나이'] * 10000\n",
    "df.head(3)"
   ]
  },
  {
   "cell_type": "markdown",
   "id": "5f8d993d",
   "metadata": {},
   "source": [
    "gpt> \n",
    "주어진 코드는 Pandas 데이터프레임에 새로운 열(column)인 '보너스'를 추가하고, \n",
    "해당 열에 '나이' 열의 값에 10,000을 곱한 값을 대입하는 작업을 수행합니다. \n",
    "\n",
    "df['보너스']: 이 부분은 데이터프레임 df에 '보너스'라는 새로운 열을 추가하라는 것을 나타냅니다.\n",
    "\n",
    "= df['나이'] * 10000: 이 부분은 '보너스' 열에 값을 할당하는데, '나이' 열의 각 행의 값에 10,000을 곱한 값을 대입합니다.\n",
    "\n",
    "df.head(3): 이 부분은 데이터프레임의 상위 3개 행을 출력합니다. \n",
    "데이터프레임의 처음 3개 행을 출력하여 '보너스' 열이 '나이' 열의 값에 10,000을 곱한 결과를 보여줍니다.\n",
    "\n",
    "따라서, '보너스' 열에는 '나이' 열의 값에 10,000을 곱한 값이 포함되며, 처음 3개 행의 데이터가 출력됩니다."
   ]
  },
  {
   "cell_type": "code",
   "execution_count": 13,
   "id": "6b6cacff",
   "metadata": {},
   "outputs": [
    {
     "data": {
      "text/html": [
       "<div>\n",
       "<style scoped>\n",
       "    .dataframe tbody tr th:only-of-type {\n",
       "        vertical-align: middle;\n",
       "    }\n",
       "\n",
       "    .dataframe tbody tr th {\n",
       "        vertical-align: top;\n",
       "    }\n",
       "\n",
       "    .dataframe thead th {\n",
       "        text-align: right;\n",
       "    }\n",
       "</style>\n",
       "<table border=\"1\" class=\"dataframe\">\n",
       "  <thead>\n",
       "    <tr style=\"text-align: right;\">\n",
       "      <th></th>\n",
       "      <th>성별</th>\n",
       "      <th>나이</th>\n",
       "      <th>키</th>\n",
       "    </tr>\n",
       "    <tr>\n",
       "      <th>이름</th>\n",
       "      <th></th>\n",
       "      <th></th>\n",
       "      <th></th>\n",
       "    </tr>\n",
       "  </thead>\n",
       "  <tbody>\n",
       "    <tr>\n",
       "      <th>허준호</th>\n",
       "      <td>남자</td>\n",
       "      <td>30</td>\n",
       "      <td>183</td>\n",
       "    </tr>\n",
       "    <tr>\n",
       "      <th>이가원</th>\n",
       "      <td>여자</td>\n",
       "      <td>24</td>\n",
       "      <td>162</td>\n",
       "    </tr>\n",
       "    <tr>\n",
       "      <th>배규민</th>\n",
       "      <td>남자</td>\n",
       "      <td>23</td>\n",
       "      <td>179</td>\n",
       "    </tr>\n",
       "  </tbody>\n",
       "</table>\n",
       "</div>"
      ],
      "text/plain": [
       "     성별  나이    키\n",
       "이름              \n",
       "허준호  남자  30  183\n",
       "이가원  여자  24  162\n",
       "배규민  남자  23  179"
      ]
     },
     "execution_count": 13,
     "metadata": {},
     "output_type": "execute_result"
    }
   ],
   "source": [
    "df.drop('보너스', axis=1, inplace=True)        # 보너스 열 단위로 삭제  (axis=1)\n",
    "df.head(3)"
   ]
  },
  {
   "cell_type": "markdown",
   "id": "cfc25ded",
   "metadata": {},
   "source": [
    "gpt> \n",
    "\n",
    "주어진 코드는 Pandas 데이터프레임에서 '보너스' 열을 삭제하는 작업을 수행합니다. \n",
    "\n",
    "df.drop('보너스', axis=1, inplace=True): \n",
    "이 부분은 데이터프레임 df에서 '보너스' 열을 삭제하는 작업을 수행합니다.\n",
    "\n",
    "'보너스': 삭제할 열의 이름을 지정합니다.\n",
    "\n",
    "axis=1: 열(column)을 삭제하라는 것을 나타냅니다.\n",
    "여기서 axis=1은 열을 나타내며, axis=0은 행(row)을 나타냅니다.\n",
    "\n",
    "inplace=True: 변경 내용을 데이터프레임에 직접 적용하도록 지정합니다.\n",
    "즉, '보너스' 열이 삭제된 데이터프레임을 df에 바로 적용합니다.\n",
    "\n",
    "df.head(3): 이 부분은 데이터프레임의 상위 3개 행을 출력합니다.\n",
    "'보너스' 열이 삭제되고 열이 업데이트된 데이터프레임의 처음 3개 행의 데이터가 출력됩니다.\n",
    "\n",
    "따라서, '보너스' 열은 삭제되었고, 결과로 '보너스' 열이 없는 데이터프레임의 처음 3개 행이 출력됩니다."
   ]
  },
  {
   "cell_type": "code",
   "execution_count": 14,
   "id": "fda90560",
   "metadata": {},
   "outputs": [
    {
     "data": {
      "text/html": [
       "<div>\n",
       "<style scoped>\n",
       "    .dataframe tbody tr th:only-of-type {\n",
       "        vertical-align: middle;\n",
       "    }\n",
       "\n",
       "    .dataframe tbody tr th {\n",
       "        vertical-align: top;\n",
       "    }\n",
       "\n",
       "    .dataframe thead th {\n",
       "        text-align: right;\n",
       "    }\n",
       "</style>\n",
       "<table border=\"1\" class=\"dataframe\">\n",
       "  <thead>\n",
       "    <tr style=\"text-align: right;\">\n",
       "      <th></th>\n",
       "      <th>이름</th>\n",
       "      <th>성별</th>\n",
       "      <th>나이</th>\n",
       "      <th>키</th>\n",
       "    </tr>\n",
       "  </thead>\n",
       "  <tbody>\n",
       "    <tr>\n",
       "      <th>0</th>\n",
       "      <td>허준호</td>\n",
       "      <td>남자</td>\n",
       "      <td>30</td>\n",
       "      <td>183</td>\n",
       "    </tr>\n",
       "    <tr>\n",
       "      <th>1</th>\n",
       "      <td>이가원</td>\n",
       "      <td>여자</td>\n",
       "      <td>24</td>\n",
       "      <td>162</td>\n",
       "    </tr>\n",
       "    <tr>\n",
       "      <th>2</th>\n",
       "      <td>배규민</td>\n",
       "      <td>남자</td>\n",
       "      <td>23</td>\n",
       "      <td>179</td>\n",
       "    </tr>\n",
       "  </tbody>\n",
       "</table>\n",
       "</div>"
      ],
      "text/plain": [
       "    이름  성별  나이    키\n",
       "0  허준호  남자  30  183\n",
       "1  이가원  여자  24  162\n",
       "2  배규민  남자  23  179"
      ]
     },
     "execution_count": 14,
     "metadata": {},
     "output_type": "execute_result"
    }
   ],
   "source": [
    "df.reset_index(inplace=True)     # 이름을 열 항목으로 바꾸고  인덱스를 원래대로 되돌리겠다. \n",
    "df.head(3) "
   ]
  },
  {
   "cell_type": "markdown",
   "id": "58b9c98b",
   "metadata": {},
   "source": [
    "gpt> \n",
    "\n",
    "주어진 코드는 Pandas 데이터프레임에서 인덱스(index)를 열(column)로 변환하고, \n",
    "원래의 인덱스를 다시 복원하는 작업을 수행합니다. \n",
    "\n",
    "\n",
    "df.reset_index(inplace=True): \n",
    "이 부분은 데이터프레임 df의 인덱스를 열(column)로 변환하고, 원래의 인덱스를 복원하는 작업을 수행합니다.\n",
    "\n",
    "inplace=True: 변경 내용을 데이터프레임에 직접 적용하도록 지정합니다. \n",
    "즉, 데이터프레임 df의 구조가 변경됩니다.\n",
    "\n",
    "df.head(3): 이 부분은 데이터프레임의 상위 3개 행을 출력합니다. \n",
    "이때, 데이터프레임의 인덱스가 열(column)로 변환되어, 원래의 인덱스가 새로운 열로 추가된 데이터프레임의 처음 3개 행의 데이터가 출력됩니다.\n",
    "\n",
    "따라서, 'df' 데이터프레임의 인덱스가 열로 변환되고, 원래의 인덱스가 새로운 열로 추가되어 데이터프레임의 처음 3개 행이 출력됩니다."
   ]
  },
  {
   "cell_type": "code",
   "execution_count": 15,
   "id": "70904fd2",
   "metadata": {},
   "outputs": [
    {
     "data": {
      "text/html": [
       "<div>\n",
       "<style scoped>\n",
       "    .dataframe tbody tr th:only-of-type {\n",
       "        vertical-align: middle;\n",
       "    }\n",
       "\n",
       "    .dataframe tbody tr th {\n",
       "        vertical-align: top;\n",
       "    }\n",
       "\n",
       "    .dataframe thead th {\n",
       "        text-align: right;\n",
       "    }\n",
       "</style>\n",
       "<table border=\"1\" class=\"dataframe\">\n",
       "  <thead>\n",
       "    <tr style=\"text-align: right;\">\n",
       "      <th></th>\n",
       "      <th>이름</th>\n",
       "      <th>성별</th>\n",
       "      <th>나이</th>\n",
       "      <th>키</th>\n",
       "    </tr>\n",
       "  </thead>\n",
       "  <tbody>\n",
       "    <tr>\n",
       "      <th>0</th>\n",
       "      <td>허준호</td>\n",
       "      <td>1</td>\n",
       "      <td>30</td>\n",
       "      <td>183</td>\n",
       "    </tr>\n",
       "    <tr>\n",
       "      <th>1</th>\n",
       "      <td>이가원</td>\n",
       "      <td>0</td>\n",
       "      <td>24</td>\n",
       "      <td>162</td>\n",
       "    </tr>\n",
       "    <tr>\n",
       "      <th>2</th>\n",
       "      <td>배규민</td>\n",
       "      <td>1</td>\n",
       "      <td>23</td>\n",
       "      <td>179</td>\n",
       "    </tr>\n",
       "  </tbody>\n",
       "</table>\n",
       "</div>"
      ],
      "text/plain": [
       "    이름  성별  나이    키\n",
       "0  허준호   1  30  183\n",
       "1  이가원   0  24  162\n",
       "2  배규민   1  23  179"
      ]
     },
     "execution_count": 15,
     "metadata": {},
     "output_type": "execute_result"
    }
   ],
   "source": [
    "rep = {'성별':{'남자':1, '여자':0}}\n",
    "df2 = df. replace(rep)\n",
    "df2.head(3)\n"
   ]
  },
  {
   "cell_type": "markdown",
   "id": "36f14d53",
   "metadata": {},
   "source": [
    "gpt> \n",
    "주어진 코드는 Pandas 데이터프레임에서 '성별' 열(column)의 값을 변경하는 작업을 수행합니다. \n",
    "\n",
    "rep = {'성별': {'남자': 1, '여자': 0}}: \n",
    "    이 부분은 '성별' 열의 값에 대한 대체 규칙을 정의하는 딕셔너리인 rep를 생성합니다. \n",
    "    이 딕셔너리는 '남자'를 1로 대체하고 '여자'를 0으로 대체하도록 지정합니다.\n",
    "\n",
    "df2 = df.replace(rep): \n",
    "    이 부분은 데이터프레임 df에서 '성별' 열의 값을 rep 딕셔너리에 따라 대체하는 작업을 수행합니다.\n",
    "    결과로 새로운 데이터프레임 df2가 생성됩니다.\n",
    "\n",
    "df2.head(3): 이 부분은 데이터프레임 df2의 상위 3개 행을 출력합니다.\n",
    "    '성별' 열의 값이 대체된 데이터프레임의 처음 3개 행의 데이터가 출력됩니다.\n",
    "\n",
    "따라서, 'df' 데이터프레임의 '성별' 열의 값이 '남자'를 1로, '여자'를 0으로 대체한 후, \n",
    "결과 데이터프레임 'df2'의 처음 3개 행이 출력됩니다."
   ]
  },
  {
   "cell_type": "code",
   "execution_count": 17,
   "id": "a80e4aab",
   "metadata": {},
   "outputs": [
    {
     "data": {
      "text/html": [
       "<div>\n",
       "<style scoped>\n",
       "    .dataframe tbody tr th:only-of-type {\n",
       "        vertical-align: middle;\n",
       "    }\n",
       "\n",
       "    .dataframe tbody tr th {\n",
       "        vertical-align: top;\n",
       "    }\n",
       "\n",
       "    .dataframe thead th {\n",
       "        text-align: right;\n",
       "    }\n",
       "</style>\n",
       "<table border=\"1\" class=\"dataframe\">\n",
       "  <thead>\n",
       "    <tr style=\"text-align: right;\">\n",
       "      <th></th>\n",
       "      <th>성별</th>\n",
       "      <th>평균 키</th>\n",
       "    </tr>\n",
       "  </thead>\n",
       "  <tbody>\n",
       "    <tr>\n",
       "      <th>0</th>\n",
       "      <td>남자</td>\n",
       "      <td>181.333333</td>\n",
       "    </tr>\n",
       "    <tr>\n",
       "      <th>1</th>\n",
       "      <td>여자</td>\n",
       "      <td>162.800000</td>\n",
       "    </tr>\n",
       "  </tbody>\n",
       "</table>\n",
       "</div>"
      ],
      "text/plain": [
       "   성별        평균 키\n",
       "0  남자  181.333333\n",
       "1  여자  162.800000"
      ]
     },
     "execution_count": 17,
     "metadata": {},
     "output_type": "execute_result"
    }
   ],
   "source": [
    "# 성별 평균 키\n",
    "mean_by_gender = df.groupby(by=['성별'], as_index=False)['키'].mean()\n",
    "mean_by_gender\n",
    "\n",
    "mean_by_gender.rename(columns={'키':'평균 키'}, inplace=True)\n",
    "mean_by_gender\n",
    "\n",
    "## '성별'을 기준으로 그룹화\n",
    "## as_index = False : 그룹화한 열(성별)을 인덱스로 사용하지 않음"
   ]
  },
  {
   "cell_type": "markdown",
   "id": "3726eaa6",
   "metadata": {},
   "source": [
    "주어진 코드는 Pandas를 사용하여 데이터프레임에서 '성별' 열을 기준으로 그룹화하고, \n",
    "각 성별에 대한 평균 키를 계산하는 작업을 수행합니다. \n",
    "\n",
    "mean_by_gender = df.groupby(by=['성별'], as_index=False)['키'].mean(): \n",
    "    \n",
    "    이 부분은 데이터프레임 df를 '성별' 열을 기준으로 그룹화하고, 각 그룹의 '키' 열의 평균을 계산합니다.\n",
    "\n",
    "groupby(by=['성별'], as_index=False):\n",
    "    \n",
    "    '성별' 열을 기준으로 그룹화하고 \n",
    "    as_index=False를 사용하여 그룹화된 열을 인덱스로 사용하지 않도록 설정합니다.\n",
    "    \n",
    "['키'].mean(): 그룹화된 각 성별에 대해 '키' 열의 평균을 계산합니다. \n",
    "    \n",
    "    결과로 각 성별에 대한 평균 키가 포함된 데이터프레임인 mean_by_gender이 생성됩니다.\n",
    "    \n",
    "mean_by_gender.rename(columns={'키':'평균 키'}, inplace=True): \n",
    "    \n",
    "    이 부분은 mean_by_gender 데이터프레임의 '키' 열 이름을 '평균 키'로 변경하는 작업을 수행합니다.\n",
    "\n",
    "rename(columns={'키':'평균 키'}):\n",
    "    '키' 열의 이름을 '평균 키'로 변경합니다.\n",
    "inplace=True: \n",
    "    변경 내용을 데이터프레임에 직접 적용하도록 지정합니다.\n",
    "mean_by_gender: \n",
    "    이 부분은 '평균 키'로 이름이 변경된 mean_by_gender 데이터프레임을 출력합니다.\n",
    "\n",
    "결과적으로 mean_by_gender 데이터프레임에는 '남자'와 '여자' 두 성별에 대한 평균 키가 나타납니다.\n",
    "'평균 키' 열의 이름은 원래 '키' 열에서 변경되어 있습니다."
   ]
  },
  {
   "cell_type": "code",
   "execution_count": 18,
   "id": "ef360372",
   "metadata": {},
   "outputs": [
    {
     "data": {
      "text/html": [
       "<div>\n",
       "<style scoped>\n",
       "    .dataframe tbody tr th:only-of-type {\n",
       "        vertical-align: middle;\n",
       "    }\n",
       "\n",
       "    .dataframe tbody tr th {\n",
       "        vertical-align: top;\n",
       "    }\n",
       "\n",
       "    .dataframe thead th {\n",
       "        text-align: right;\n",
       "    }\n",
       "</style>\n",
       "<table border=\"1\" class=\"dataframe\">\n",
       "  <thead>\n",
       "    <tr style=\"text-align: right;\">\n",
       "      <th></th>\n",
       "      <th>성별</th>\n",
       "      <th>평균 키</th>\n",
       "    </tr>\n",
       "  </thead>\n",
       "  <tbody>\n",
       "    <tr>\n",
       "      <th>0</th>\n",
       "      <td>남자</td>\n",
       "      <td>181.333333</td>\n",
       "    </tr>\n",
       "    <tr>\n",
       "      <th>1</th>\n",
       "      <td>여자</td>\n",
       "      <td>162.800000</td>\n",
       "    </tr>\n",
       "  </tbody>\n",
       "</table>\n",
       "</div>"
      ],
      "text/plain": [
       "   성별        평균 키\n",
       "0  남자  181.333333\n",
       "1  여자  162.800000"
      ]
     },
     "execution_count": 18,
     "metadata": {},
     "output_type": "execute_result"
    }
   ],
   "source": [
    "# 성별 평균 키\n",
    "mean_by_gender = df.groupby(by=['성별'], as_index=False)['키'].mean()\n",
    "mean_by_gender.rename(columns={'키':'평균 키'}, inplace=True)\n",
    "mean_by_gender\n",
    "\n",
    "## '성별'을 기준으로 그룹화\n",
    "## as_index = False : 그룹화한 열(성별)을 인덱스로 사용하지 않음"
   ]
  },
  {
   "cell_type": "code",
   "execution_count": 20,
   "id": "e211dca4",
   "metadata": {},
   "outputs": [
    {
     "data": {
      "text/html": [
       "<div>\n",
       "<style scoped>\n",
       "    .dataframe tbody tr th:only-of-type {\n",
       "        vertical-align: middle;\n",
       "    }\n",
       "\n",
       "    .dataframe tbody tr th {\n",
       "        vertical-align: top;\n",
       "    }\n",
       "\n",
       "    .dataframe thead th {\n",
       "        text-align: right;\n",
       "    }\n",
       "</style>\n",
       "<table border=\"1\" class=\"dataframe\">\n",
       "  <thead>\n",
       "    <tr style=\"text-align: right;\">\n",
       "      <th></th>\n",
       "      <th>성별</th>\n",
       "      <th>키의 표준편차</th>\n",
       "    </tr>\n",
       "  </thead>\n",
       "  <tbody>\n",
       "    <tr>\n",
       "      <th>0</th>\n",
       "      <td>남자</td>\n",
       "      <td>2.081666</td>\n",
       "    </tr>\n",
       "    <tr>\n",
       "      <th>1</th>\n",
       "      <td>여자</td>\n",
       "      <td>5.630275</td>\n",
       "    </tr>\n",
       "  </tbody>\n",
       "</table>\n",
       "</div>"
      ],
      "text/plain": [
       "   성별   키의 표준편차\n",
       "0  남자  2.081666\n",
       "1  여자  5.630275"
      ]
     },
     "execution_count": 20,
     "metadata": {},
     "output_type": "execute_result"
    }
   ],
   "source": [
    "std_by_gender = df.groupby(by=['성별'], as_index=False)['키'].std()\n",
    "std_by_gender.rename(columns = {'키':'키의 표준편차'}, inplace=True)\n",
    "std_by_gender"
   ]
  },
  {
   "cell_type": "code",
   "execution_count": 21,
   "id": "232302e3",
   "metadata": {},
   "outputs": [
    {
     "data": {
      "text/html": [
       "<div>\n",
       "<style scoped>\n",
       "    .dataframe tbody tr th:only-of-type {\n",
       "        vertical-align: middle;\n",
       "    }\n",
       "\n",
       "    .dataframe tbody tr th {\n",
       "        vertical-align: top;\n",
       "    }\n",
       "\n",
       "    .dataframe thead th {\n",
       "        text-align: right;\n",
       "    }\n",
       "</style>\n",
       "<table border=\"1\" class=\"dataframe\">\n",
       "  <thead>\n",
       "    <tr style=\"text-align: right;\">\n",
       "      <th></th>\n",
       "      <th>성별</th>\n",
       "      <th>평균 키</th>\n",
       "      <th>키의 표준편차</th>\n",
       "    </tr>\n",
       "  </thead>\n",
       "  <tbody>\n",
       "    <tr>\n",
       "      <th>0</th>\n",
       "      <td>남자</td>\n",
       "      <td>181.333333</td>\n",
       "      <td>2.081666</td>\n",
       "    </tr>\n",
       "    <tr>\n",
       "      <th>1</th>\n",
       "      <td>여자</td>\n",
       "      <td>162.800000</td>\n",
       "      <td>5.630275</td>\n",
       "    </tr>\n",
       "  </tbody>\n",
       "</table>\n",
       "</div>"
      ],
      "text/plain": [
       "   성별        평균 키   키의 표준편차\n",
       "0  남자  181.333333  2.081666\n",
       "1  여자  162.800000  5.630275"
      ]
     },
     "execution_count": 21,
     "metadata": {},
     "output_type": "execute_result"
    }
   ],
   "source": [
    "new_df = pd.merge(mean_by_gender, std_by_gender)\n",
    "new_df"
   ]
  },
  {
   "cell_type": "markdown",
   "id": "c58adf6d",
   "metadata": {},
   "source": [
    "gpt> \n",
    "주어진 코드는 Pandas를 사용하여 두 개의 데이터프레임인 mean_by_gender와 std_by_gender를 병합하고,\n",
    "새로운 데이터프레임 new_df를 생성하는 작업을 수행합니다. \n",
    "\n",
    "new_df = pd.merge(mean_by_gender, std_by_gender): \n",
    "이 부분은 mean_by_gender와 std_by_gender 두 데이터프레임을 병합하여 하나의 데이터프레임인 new_df를 생성합니다.\n",
    "\n",
    "mean_by_gender:\n",
    "'성별' 별 평균 키 정보가 포함된 데이터프레임입니다.\n",
    "\n",
    "std_by_gender:\n",
    "'성별' 별 키의 표준편차 정보가 포함된 데이터프레임입니다.\n",
    "\n",
    "pd.merge(): \n",
    "두 데이터프레임을 병합하는 Pandas 함수입니다. \n",
    "여기에서는 두 데이터프레임을 '성별' 열을 기준으로 병합합니다. \n",
    "\n",
    "이를 통해 '성별' 열의 값에 따라 평균 키와 표준편차가 함께 나타나는 새로운 데이터프레임 new_df가 생성됩니다.\n",
    "\n",
    "결과적으로 new_df 데이터프레임에는 '성별'을 기준으로 평균 키와 표준편차 정보가 함께 나타나게 됩니다.\n",
    "\n",
    "이 데이터프레임은 '성별' 열을 기준으로 병합된 결과를 포함합니다."
   ]
  },
  {
   "cell_type": "code",
   "execution_count": 22,
   "id": "daafe723",
   "metadata": {},
   "outputs": [
    {
     "data": {
      "text/html": [
       "<div>\n",
       "<style scoped>\n",
       "    .dataframe tbody tr th:only-of-type {\n",
       "        vertical-align: middle;\n",
       "    }\n",
       "\n",
       "    .dataframe tbody tr th {\n",
       "        vertical-align: top;\n",
       "    }\n",
       "\n",
       "    .dataframe thead th {\n",
       "        text-align: right;\n",
       "    }\n",
       "</style>\n",
       "<table border=\"1\" class=\"dataframe\">\n",
       "  <thead>\n",
       "    <tr style=\"text-align: right;\">\n",
       "      <th></th>\n",
       "      <th>성별</th>\n",
       "      <th>평균 키</th>\n",
       "    </tr>\n",
       "  </thead>\n",
       "  <tbody>\n",
       "    <tr>\n",
       "      <th>0</th>\n",
       "      <td>남자</td>\n",
       "      <td>183</td>\n",
       "    </tr>\n",
       "    <tr>\n",
       "      <th>1</th>\n",
       "      <td>여자</td>\n",
       "      <td>172</td>\n",
       "    </tr>\n",
       "  </tbody>\n",
       "</table>\n",
       "</div>"
      ],
      "text/plain": [
       "   성별  평균 키\n",
       "0  남자   183\n",
       "1  여자   172"
      ]
     },
     "execution_count": 22,
     "metadata": {},
     "output_type": "execute_result"
    }
   ],
   "source": [
    "# 성별  최대 키\n",
    "max_by_gender = df.groupby(by=['성별'], as_index=False)['키'].max()\n",
    "\n",
    "\n",
    "max_by_gender.rename(columns={'키':'평균 키'}, inplace=True)\n",
    "max_by_gender"
   ]
  },
  {
   "cell_type": "markdown",
   "id": "438ea1bc",
   "metadata": {},
   "source": [
    "주어진 코드는 Pandas를 사용하여 데이터프레임에서 '성별' 열을 기준으로 그룹화하고, \n",
    "각 성별에서의 최대 키를 찾는 작업을 수행합니다. \n",
    "\n",
    "max_by_gender = df.groupby(by=['성별'], as_index=False)['키'].max(): \n",
    "    이 부분은 데이터프레임 df를 '성별' 열을 기준으로 그룹화하고, 각 그룹에서 '키' 열의 최댓값(최대 키)을 찾습니다.\n",
    "\n",
    "groupby(by=['성별'], as_index=False):\n",
    "    '성별' 열을 기준으로 그룹화하고 as_index=False를 사용하여 그룹화된 열을 인덱스로 사용하지 않도록 설정합니다.\n",
    "['키'].max(): 그룹화된 각 성별에서 '키' 열의 최대값을 계산합니다. 결과로 각 성별에 대한 최대 키가 나타난 데이터프레임인 max_by_gender이 생성됩니다.\n",
    "max_by_gender.rename(columns={'키':'평균 키'}, inplace=True): 이 부분은 max_by_gender 데이터프레임의 '키' 열 이름을 '평균 키'로 변경하는 작업을 수행합니다.\n",
    "\n",
    "rename(columns={'키':'평균 키'}): '키' 열의 이름을 '평균 키'로 변경합니다.\n",
    "inplace=True: 변경 내용을 데이터프레임에 직접 적용하도록 지정합니다.\n",
    "max_by_gender: 이 부분은 '평균 키'로 이름이 변경된 max_by_gender 데이터프레임을 출력합니다.\n",
    "\n",
    "결과적으로 max_by_gender 데이터프레임에는 '남자'와 '여자' 두 성별에 대한 최대 키가 나타납니다. '평균 키' 열의 이름은 원래 '키' 열에서 변경되어 있습니다."
   ]
  },
  {
   "cell_type": "markdown",
   "id": "8a74e89a",
   "metadata": {},
   "source": [
    "### Matplotlib"
   ]
  },
  {
   "cell_type": "code",
   "execution_count": 23,
   "id": "bc43d279",
   "metadata": {},
   "outputs": [
    {
     "data": {
      "image/png": "[encoded data removed]",
      "text/plain": [
       "<Figure size 640x480 with 1 Axes>"
      ]
     },
     "metadata": {},
     "output_type": "display_data"
    }
   ],
   "source": [
    "import matplotlib.pyplot as plt\n",
    "\n",
    "plt.rc('font', family = 'Malgun Gothic')               #한글 처리를 위함    -matplotlib\n",
    "plt.rcParams['axes.unicode_minus'] = False    #축의 음수 기호 표시를 위함.\n",
    "\n",
    "plt. title('대한민국')\n",
    "plt.plot([-1,2,3,4])     # 선형 그래프    y축으로  x 축은 알아서 \n",
    "plt.show()"
   ]
  },
  {
   "cell_type": "code",
   "execution_count": 24,
   "id": "7d2307a8",
   "metadata": {},
   "outputs": [
    {
     "data": {
      "image/png": "[encoded data removed]",
      "text/plain": [
       "<Figure size 640x480 with 1 Axes>"
      ]
     },
     "metadata": {},
     "output_type": "display_data"
    }
   ],
   "source": [
    "year = [ 2014, 2017, 2020, 2023 ]     # 리스트 형태로 넣음 \n",
    "price = [ 25000, 31000, 53000, 63000]\n",
    "plt.plot(year, price, 'rs:')                                 # year x축  , price y축   # 빨간색, 사각형 마커, 점선\n",
    "plt. axis([2013, 2024, 20000, 70000])         # 앞의 2개 x축(2013~2024)과    뒤 2개 y축(20000~70000)의 범위\n",
    "plt.show()"
   ]
  },
  {
   "cell_type": "code",
   "execution_count": 25,
   "id": "23a85067",
   "metadata": {
    "scrolled": true
   },
   "outputs": [
    {
     "data": {
      "image/png": "[encoded data removed]",
      "text/plain": [
       "<Figure size 640x480 with 1 Axes>"
      ]
     },
     "metadata": {},
     "output_type": "display_data"
    }
   ],
   "source": [
    "import numpy as np\n",
    "\n",
    "plt.plot(np.random.randn(10), 'k', label='one')               # 검은색 실선    개수 10개를 랜덤으로 발생,  넘파이에서는 평균은 0 표준편차 1가정 분포에서 10개 발생 \n",
    "plt.plot(np.random.randn(10)*3, 'r--', label= 'two')       # 빨간색 파선\n",
    "plt.plot(np.random.randn(10)*10, 'g.', label= 'three')   # 선 없이 초록색 점\n",
    "plt.legend()\n",
    "plt.show()\n"
   ]
  },
  {
   "cell_type": "code",
   "execution_count": 26,
   "id": "b8b50fde",
   "metadata": {},
   "outputs": [
    {
     "data": {
      "image/png": "[encoded data removed]",
      "text/plain": [
       "<Figure size 640x480 with 4 Axes>"
      ]
     },
     "metadata": {},
     "output_type": "display_data"
    }
   ],
   "source": [
    "plt. subplot(2,2,1)                                                              # 2행 2열 중 첫 번 째 그래프 \n",
    "plt.plot(np.random.randn(10),'b--')\n",
    "plt.subplot(2,2,2)                                                               # 2행 2열 중 두 번 째 그래프 \n",
    "plt.plot(np.random.randn(100),'r', alpha=0.7)\n",
    "plt.subplot(2,2,3)                                                                # 2행 2열 중 세 번 째 그래프 \n",
    "plt.plot(np.random.randn(10),'y^')\n",
    "plt.subplot(2,2,4)                                                                 # 2행 2열 중 네 번 째 그래프 \n",
    "plt.plot(np.random.randn(10),'g.')\n",
    "plt.show()"
   ]
  },
  {
   "cell_type": "code",
   "execution_count": null,
   "id": "0c813fa5",
   "metadata": {},
   "outputs": [],
   "source": []
  }
 ],
 "metadata": {
  "kernelspec": {
   "display_name": "Python 3 (ipykernel)",
   "language": "python",
   "name": "python3"
  },
  "language_info": {
   "codemirror_mode": {
    "name": "ipython",
    "version": 3
   },
   "file_extension": ".py",
   "mimetype": "text/x-python",
   "name": "python",
   "nbconvert_exporter": "python",
   "pygments_lexer": "ipython3",
   "version": "3.10.9"
  }
 },
 "nbformat": 4,
 "nbformat_minor": 5
}
