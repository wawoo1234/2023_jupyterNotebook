{
 "cells": [
  {
   "cell_type": "code",
   "execution_count": 1,
   "id": "12c3ac04",
   "metadata": {},
   "outputs": [],
   "source": [
    "import seaborn as sns\n",
    "iris = sns.load_dataset('iris')"
   ]
  },
  {
   "cell_type": "code",
   "execution_count": null,
   "id": "8e44045e",
   "metadata": {},
   "outputs": [],
   "source": []
  },
  {
   "cell_type": "markdown",
   "id": "79d11f8c",
   "metadata": {},
   "source": [
    "1. iris 데이터 셋의 구조(structure)와 변수의 자료형 (type)을 확인해 보세요"
   ]
  },
  {
   "cell_type": "code",
   "execution_count": null,
   "id": "1b6db464",
   "metadata": {},
   "outputs": [],
   "source": []
  },
  {
   "cell_type": "code",
   "execution_count": 2,
   "id": "92237c3c",
   "metadata": {},
   "outputs": [
    {
     "name": "stdout",
     "output_type": "stream",
     "text": [
      "<class 'pandas.core.frame.DataFrame'>\n",
      "RangeIndex: 150 entries, 0 to 149\n",
      "Data columns (total 5 columns):\n",
      " #   Column        Non-Null Count  Dtype  \n",
      "---  ------        --------------  -----  \n",
      " 0   sepal_length  150 non-null    float64\n",
      " 1   sepal_width   150 non-null    float64\n",
      " 2   petal_length  150 non-null    float64\n",
      " 3   petal_width   150 non-null    float64\n",
      " 4   species       150 non-null    object \n",
      "dtypes: float64(4), object(1)\n",
      "memory usage: 6.0+ KB\n"
     ]
    }
   ],
   "source": [
    "iris.info()"
   ]
  },
  {
   "cell_type": "code",
   "execution_count": 3,
   "id": "e17cb3c4",
   "metadata": {},
   "outputs": [
    {
     "name": "stdout",
     "output_type": "stream",
     "text": [
      "   sepal_length  sepal_width  petal_length  petal_width species\n",
      "0           5.1          3.5           1.4          0.2  setosa\n",
      "1           4.9          3.0           1.4          0.2  setosa\n",
      "2           4.7          3.2           1.3          0.2  setosa\n",
      "3           4.6          3.1           1.5          0.2  setosa\n",
      "4           5.0          3.6           1.4          0.2  setosa\n",
      "5           5.4          3.9           1.7          0.4  setosa\n",
      "6           4.6          3.4           1.4          0.3  setosa\n",
      "7           5.0          3.4           1.5          0.2  setosa\n",
      "8           4.4          2.9           1.4          0.2  setosa\n",
      "9           4.9          3.1           1.5          0.1  setosa\n"
     ]
    }
   ],
   "source": [
    "import pandas as pd\n",
    "\n",
    "# 처음 10개 행 출력\n",
    "print(iris.head(10))\n"
   ]
  },
  {
   "cell_type": "code",
   "execution_count": 19,
   "id": "cdb7d06a",
   "metadata": {},
   "outputs": [
    {
     "data": {
      "text/html": [
       "<div>\n",
       "<style scoped>\n",
       "    .dataframe tbody tr th:only-of-type {\n",
       "        vertical-align: middle;\n",
       "    }\n",
       "\n",
       "    .dataframe tbody tr th {\n",
       "        vertical-align: top;\n",
       "    }\n",
       "\n",
       "    .dataframe thead th {\n",
       "        text-align: right;\n",
       "    }\n",
       "</style>\n",
       "<table border=\"1\" class=\"dataframe\">\n",
       "  <thead>\n",
       "    <tr style=\"text-align: right;\">\n",
       "      <th></th>\n",
       "      <th>sepal_length</th>\n",
       "      <th>sepal_width</th>\n",
       "      <th>petal_length</th>\n",
       "      <th>petal_width</th>\n",
       "      <th>species</th>\n",
       "    </tr>\n",
       "  </thead>\n",
       "  <tbody>\n",
       "    <tr>\n",
       "      <th>0</th>\n",
       "      <td>5.1</td>\n",
       "      <td>3.5</td>\n",
       "      <td>1.4</td>\n",
       "      <td>0.2</td>\n",
       "      <td>setosa</td>\n",
       "    </tr>\n",
       "    <tr>\n",
       "      <th>1</th>\n",
       "      <td>4.9</td>\n",
       "      <td>3.0</td>\n",
       "      <td>1.4</td>\n",
       "      <td>0.2</td>\n",
       "      <td>setosa</td>\n",
       "    </tr>\n",
       "    <tr>\n",
       "      <th>2</th>\n",
       "      <td>4.7</td>\n",
       "      <td>3.2</td>\n",
       "      <td>1.3</td>\n",
       "      <td>0.2</td>\n",
       "      <td>setosa</td>\n",
       "    </tr>\n",
       "    <tr>\n",
       "      <th>3</th>\n",
       "      <td>4.6</td>\n",
       "      <td>3.1</td>\n",
       "      <td>1.5</td>\n",
       "      <td>0.2</td>\n",
       "      <td>setosa</td>\n",
       "    </tr>\n",
       "    <tr>\n",
       "      <th>4</th>\n",
       "      <td>5.0</td>\n",
       "      <td>3.6</td>\n",
       "      <td>1.4</td>\n",
       "      <td>0.2</td>\n",
       "      <td>setosa</td>\n",
       "    </tr>\n",
       "    <tr>\n",
       "      <th>5</th>\n",
       "      <td>5.4</td>\n",
       "      <td>3.9</td>\n",
       "      <td>1.7</td>\n",
       "      <td>0.4</td>\n",
       "      <td>setosa</td>\n",
       "    </tr>\n",
       "    <tr>\n",
       "      <th>6</th>\n",
       "      <td>4.6</td>\n",
       "      <td>3.4</td>\n",
       "      <td>1.4</td>\n",
       "      <td>0.3</td>\n",
       "      <td>setosa</td>\n",
       "    </tr>\n",
       "    <tr>\n",
       "      <th>7</th>\n",
       "      <td>5.0</td>\n",
       "      <td>3.4</td>\n",
       "      <td>1.5</td>\n",
       "      <td>0.2</td>\n",
       "      <td>setosa</td>\n",
       "    </tr>\n",
       "    <tr>\n",
       "      <th>8</th>\n",
       "      <td>4.4</td>\n",
       "      <td>2.9</td>\n",
       "      <td>1.4</td>\n",
       "      <td>0.2</td>\n",
       "      <td>setosa</td>\n",
       "    </tr>\n",
       "    <tr>\n",
       "      <th>9</th>\n",
       "      <td>4.9</td>\n",
       "      <td>3.1</td>\n",
       "      <td>1.5</td>\n",
       "      <td>0.1</td>\n",
       "      <td>setosa</td>\n",
       "    </tr>\n",
       "  </tbody>\n",
       "</table>\n",
       "</div>"
      ],
      "text/plain": [
       "   sepal_length  sepal_width  petal_length  petal_width species\n",
       "0           5.1          3.5           1.4          0.2  setosa\n",
       "1           4.9          3.0           1.4          0.2  setosa\n",
       "2           4.7          3.2           1.3          0.2  setosa\n",
       "3           4.6          3.1           1.5          0.2  setosa\n",
       "4           5.0          3.6           1.4          0.2  setosa\n",
       "5           5.4          3.9           1.7          0.4  setosa\n",
       "6           4.6          3.4           1.4          0.3  setosa\n",
       "7           5.0          3.4           1.5          0.2  setosa\n",
       "8           4.4          2.9           1.4          0.2  setosa\n",
       "9           4.9          3.1           1.5          0.1  setosa"
      ]
     },
     "execution_count": 19,
     "metadata": {},
     "output_type": "execute_result"
    }
   ],
   "source": [
    "iris.head(10)"
   ]
  },
  {
   "cell_type": "markdown",
   "id": "4cca27a9",
   "metadata": {},
   "source": [
    "#### 3. sepal_width꽃받침 너비 열의 데이터 평균과 표준편차 그리고 3사분위수를 구하시오"
   ]
  },
  {
   "cell_type": "code",
   "execution_count": 4,
   "id": "a2242fcb",
   "metadata": {},
   "outputs": [
    {
     "name": "stdout",
     "output_type": "stream",
     "text": [
      "평균: sepal_length    5.843333\n",
      "sepal_width     3.057333\n",
      "petal_length    3.758000\n",
      "petal_width     1.199333\n",
      "dtype: float64\n"
     ]
    },
    {
     "name": "stderr",
     "output_type": "stream",
     "text": [
      "C:\\Users\\JBEDU30\\anaconda3\\lib\\site-packages\\numpy\\core\\fromnumeric.py:3430: FutureWarning: In a future version, DataFrame.mean(axis=None) will return a scalar mean over the entire DataFrame. To retain the old behavior, use 'frame.mean(axis=0)' or just 'frame.mean()'\n",
      "  return mean(axis=axis, dtype=dtype, out=out, **kwargs)\n",
      "C:\\Users\\JBEDU30\\anaconda3\\lib\\site-packages\\numpy\\core\\fromnumeric.py:3430: FutureWarning: The default value of numeric_only in DataFrame.mean is deprecated. In a future version, it will default to False. In addition, specifying 'numeric_only=None' is deprecated. Select only valid columns or specify the value of numeric_only to silence this warning.\n",
      "  return mean(axis=axis, dtype=dtype, out=out, **kwargs)\n"
     ]
    }
   ],
   "source": [
    "import numpy as np\n",
    "\n",
    "# 평균 계산\n",
    "mean_value = np.mean(iris)\n",
    "print(\"평균:\", mean_value)\n"
   ]
  },
  {
   "cell_type": "code",
   "execution_count": null,
   "id": "daa2ac55",
   "metadata": {},
   "outputs": [],
   "source": [
    "import numpy as np\n",
    "\n",
    "# 평균 계산\n",
    "mean_value = np.mean(iris)\n",
    "print(\"평균:\", mean_value)"
   ]
  },
  {
   "cell_type": "code",
   "execution_count": 5,
   "id": "8ce63d05",
   "metadata": {},
   "outputs": [
    {
     "name": "stdout",
     "output_type": "stream",
     "text": [
      "표준편차: sepal_length    0.825301\n",
      "sepal_width     0.434411\n",
      "petal_length    1.759404\n",
      "petal_width     0.759693\n",
      "dtype: float64\n"
     ]
    },
    {
     "name": "stderr",
     "output_type": "stream",
     "text": [
      "C:\\Users\\JBEDU30\\anaconda3\\lib\\site-packages\\numpy\\core\\fromnumeric.py:3571: FutureWarning: The default value of numeric_only in DataFrame.std is deprecated. In a future version, it will default to False. In addition, specifying 'numeric_only=None' is deprecated. Select only valid columns or specify the value of numeric_only to silence this warning.\n",
      "  return std(axis=axis, dtype=dtype, out=out, ddof=ddof, **kwargs)\n"
     ]
    }
   ],
   "source": [
    "# 표준편차 계산\n",
    "std_deviation = np.std(iris)\n",
    "print(\"표준편차:\", std_deviation)\n"
   ]
  },
  {
   "cell_type": "code",
   "execution_count": 6,
   "id": "4216071a",
   "metadata": {},
   "outputs": [
    {
     "name": "stdout",
     "output_type": "stream",
     "text": [
      "3사분위수: 3.3\n"
     ]
    }
   ],
   "source": [
    "# 3사분위수 계산\n",
    "q3 = np.percentile(iris.sepal_width, 75)\n",
    "print(\"3사분위수:\", q3)"
   ]
  },
  {
   "cell_type": "code",
   "execution_count": 8,
   "id": "a784bdbe",
   "metadata": {},
   "outputs": [
    {
     "data": {
      "text/plain": [
       "3.3"
      ]
     },
     "execution_count": 8,
     "metadata": {},
     "output_type": "execute_result"
    }
   ],
   "source": [
    "# 3사분위수 계산\n",
    "iris.sepal_width.quantile(0.75)"
   ]
  },
  {
   "cell_type": "markdown",
   "id": "f490699f",
   "metadata": {},
   "source": [
    "####  4. sepal_width 열의 데이터 분포를 히스토그램으로 나타내 보세요."
   ]
  },
  {
   "cell_type": "code",
   "execution_count": 9,
   "id": "e134dc8e",
   "metadata": {},
   "outputs": [
    {
     "data": {
      "image/png": "[encoded data removed]",
      "text/plain": [
       "<Figure size 640x480 with 1 Axes>"
      ]
     },
     "metadata": {},
     "output_type": "display_data"
    }
   ],
   "source": [
    "import matplotlib.pyplot as plt\n",
    "plt.rc('font', family='Malgun Gothic')                 # 한글처리위함\n",
    "plt.rcParams['axes.unicode_minus'] = False    #축의 음수 기호 표시\n",
    "import pandas as pd\n",
    "import seaborn as sns\n",
    "\n",
    "# 'sepal_width' 열의 데이터 분포 히스토그램\n",
    "sns.histplot(iris['sepal_width'], bins=20, kde=True)  # bins는 막대의 개수, kde는 커널 밀도 그래프 여부\n",
    "plt.title('Sepal Width Distribution')\n",
    "plt.xlabel('Sepal Width (cm)')\n",
    "plt.ylabel('Frequency')\n",
    "plt.show()"
   ]
  },
  {
   "cell_type": "markdown",
   "id": "8af79ef5",
   "metadata": {},
   "source": [
    "##### gpt>KDE는 커널 밀도 추정(Kernel Density Estimation)의 약어로, 히스토그램과 유사한 데이터 분포를 시각화하는 방법 중 하나입니다. 히스토그램은 데이터를 구간으로 나누어 각 구간에 속하는 데이터의 빈도를 막대로 나타내는 반면, KDE는 데이터의 분포를 부드러운 곡선 형태로 표현합니다.\n",
    "\n",
    "KDE는 각 데이터 포인트를 중심으로 하는 커널(일종의 함수)을 이용하여 전체 데이터의 분포를 근사화합니다. 이러한 과정을 통해 데이터의 분포를 부드럽게 나타낼 수 있어, 히스토그램에서 나타나지 않는 세부적인 특징이나 경향성을 뚜렷하게 보여줄 수 있습니다.\n",
    "\n",
    "KDE를 사용하면 데이터 분포의 모양이 뚜렷하게 드러나며, 데이터가 어떻게 밀집되어 있는지 쉽게 파악할 수 있습니다. 특히, 히스토그램의 구간 설정에 따라 모양이 크게 달라지는 경우에 KDE는 더 부드럽고 일반적인 모양을 제공하여 데이터를 더 잘 이해할 수 있도록 도와줍니다.\n"
   ]
  },
  {
   "cell_type": "code",
   "execution_count": 20,
   "id": "de12fdde",
   "metadata": {},
   "outputs": [
    {
     "data": {
      "image/png": "[encoded data removed]",
      "text/plain": [
       "<Figure size 640x480 with 1 Axes>"
      ]
     },
     "metadata": {},
     "output_type": "display_data"
    }
   ],
   "source": [
    "plt.hist(iris.sepal_width)\n",
    "plt.show()"
   ]
  },
  {
   "cell_type": "markdown",
   "id": "a395397c",
   "metadata": {},
   "source": [
    "5. 상자그림을 이용해 붓꽃 품종별(species) sepal_width의 분포를 나타내 보세요."
   ]
  },
  {
   "cell_type": "code",
   "execution_count": 11,
   "id": "3c4045cd",
   "metadata": {},
   "outputs": [
    {
     "data": {
      "image/png": "[encoded data removed]",
      "text/plain": [
       "<Figure size 640x480 with 1 Axes>"
      ]
     },
     "metadata": {},
     "output_type": "display_data"
    }
   ],
   "source": [
    "import seaborn as sns\n",
    "import matplotlib.pyplot as plt\n",
    "import pandas as pd\n",
    "\n",
    "# 상자 그림 (Boxplot)으로 품종별 sepal_width 분포 나타내기\n",
    "sns.boxplot(x='species', y='sepal_width', data=iris)\n",
    "\n",
    "\n",
    "plt.title('Sepal Width Distribution by Species')\n",
    "plt.xlabel('Species')\n",
    "plt.ylabel('Sepal Width (cm)')\n",
    "plt.show()"
   ]
  },
  {
   "cell_type": "code",
   "execution_count": null,
   "id": "08ea8ee6",
   "metadata": {},
   "outputs": [],
   "source": [
    "6. setosa 품종의 sepal_width만 필터링해서 s라는 데이터 셋을 만들고, \n",
    "versicolor 품종의 sepal_width만 필터링해서 v라는 데이터 셋을 만들어보세요."
   ]
  },
  {
   "cell_type": "code",
   "execution_count": 12,
   "id": "79f6cc39",
   "metadata": {},
   "outputs": [
    {
     "name": "stdout",
     "output_type": "stream",
     "text": [
      "Setosa 품종의 sepal_width:\n",
      "0    3.5\n",
      "1    3.0\n",
      "2    3.2\n",
      "3    3.1\n",
      "4    3.6\n",
      "Name: sepal_width, dtype: float64\n",
      "\n",
      "Versicolor 품종의 sepal_width:\n",
      "50    3.2\n",
      "51    3.2\n",
      "52    3.1\n",
      "53    2.3\n",
      "54    2.8\n",
      "Name: sepal_width, dtype: float64\n"
     ]
    }
   ],
   "source": [
    "import pandas as pd\n",
    "\n",
    "# 예시 데이터 불러오기 (iris 데이터 중 일부)\n",
    "\n",
    "iris = sns.load_dataset('iris')\n",
    "\n",
    "  ## iris = pd.read_csv('your_iris_data.csv')  # 실제 데이터 파일 경로를 넣어주세요\n",
    "\n",
    "# 'setosa' 품종의 sepal_width 필터링\n",
    "s = iris[iris['species'] == 'setosa']['sepal_width']\n",
    "\n",
    "# 'versicolor' 품종의 sepal_width 필터링\n",
    "v = iris[iris['species'] == 'versicolor']['sepal_width']\n",
    "\n",
    "# 결과 확인\n",
    "print(\"Setosa 품종의 sepal_width:\")\n",
    "print(s.head())\n",
    "\n",
    "print(\"\\nVersicolor 품종의 sepal_width:\")\n",
    "print(v.head())"
   ]
  },
  {
   "cell_type": "code",
   "execution_count": 25,
   "id": "802cdcd2",
   "metadata": {},
   "outputs": [],
   "source": [
    "s=iris.loc[iris.species==\"setosa\", \"sepal_width\"]\n",
    "v=iris.loc[iris.species==\"versicolor\", \"sepal_width\"]"
   ]
  },
  {
   "cell_type": "code",
   "execution_count": null,
   "id": "a806816c",
   "metadata": {},
   "outputs": [],
   "source": [
    "7. s와 v가 정규 분포를 따르는지 검정해보세요."
   ]
  },
  {
   "cell_type": "code",
   "execution_count": 16,
   "id": "de7b4ab7",
   "metadata": {},
   "outputs": [
    {
     "name": "stdout",
     "output_type": "stream",
     "text": [
      "ShapiroResult(statistic=0.971718966960907, pvalue=0.2715126574039459)\n",
      "ShapiroResult(statistic=0.9741329550743103, pvalue=0.3379843533039093)\n"
     ]
    }
   ],
   "source": [
    "import scipy as sp\n",
    "print(sp.stats.shapiro(s))\n",
    "print(sp.stats.shapiro(v))"
   ]
  },
  {
   "cell_type": "markdown",
   "id": "55569d4f",
   "metadata": {},
   "source": [
    "8. 데이터 셋 s와 v의 평균이 같다고 볼 수 있는지 t-test를 통해 검정해보세요."
   ]
  },
  {
   "cell_type": "code",
   "execution_count": 18,
   "id": "ee99e122",
   "metadata": {},
   "outputs": [
    {
     "data": {
      "text/plain": [
       "Ttest_indResult(statistic=9.454975848128596, pvalue=1.8452599454769322e-15)"
      ]
     },
     "execution_count": 18,
     "metadata": {},
     "output_type": "execute_result"
    }
   ],
   "source": [
    "import scipy as sp\n",
    "sp.stats.ttest_ind(s, v)"
   ]
  },
  {
   "cell_type": "code",
   "execution_count": null,
   "id": "3ede25fc",
   "metadata": {},
   "outputs": [],
   "source": []
  }
 ],
 "metadata": {
  "kernelspec": {
   "display_name": "Python 3 (ipykernel)",
   "language": "python",
   "name": "python3"
  },
  "language_info": {
   "codemirror_mode": {
    "name": "ipython",
    "version": 3
   },
   "file_extension": ".py",
   "mimetype": "text/x-python",
   "name": "python",
   "nbconvert_exporter": "python",
   "pygments_lexer": "ipython3",
   "version": "3.10.9"
  }
 },
 "nbformat": 4,
 "nbformat_minor": 5
}
