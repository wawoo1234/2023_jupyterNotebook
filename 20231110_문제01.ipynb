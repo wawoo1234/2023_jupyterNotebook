{
 "cells": [
  {
   "cell_type": "markdown",
   "id": "acd41e4d",
   "metadata": {},
   "source": [
    "###### 1. iris 데이터 셋에서 species가 virginica인 수치형 데이터만(1~4열) 필터링한 test라는 데이터 셋을 만들어 보세요."
   ]
  },
  {
   "cell_type": "code",
   "execution_count": 2,
   "id": "ec6e4c61",
   "metadata": {},
   "outputs": [],
   "source": [
    "import seaborn as sns\n",
    "iris = sns.load_dataset('iris')\n"
   ]
  },
  {
   "cell_type": "code",
   "execution_count": null,
   "id": "eeda9f87",
   "metadata": {},
   "outputs": [],
   "source": []
  },
  {
   "cell_type": "markdown",
   "id": "37bed9bb",
   "metadata": {},
   "source": [
    "###### 2. test의 sepal_length(꽃받침 길이)와 나머지 변수들이 어떤 상관관계가 있는지 상관분석을 해보세요. 그 중 가장 상관계수가 높은 변수는 무엇인가요?\n"
   ]
  },
  {
   "cell_type": "code",
   "execution_count": null,
   "id": "e0d976d5",
   "metadata": {},
   "outputs": [],
   "source": []
  },
  {
   "cell_type": "code",
   "execution_count": null,
   "id": "0fff3212",
   "metadata": {},
   "outputs": [],
   "source": []
  },
  {
   "cell_type": "markdown",
   "id": "d5de0f0e",
   "metadata": {},
   "source": [
    "###### 3. test의 sepal_length(꽃받침 길이)를 종속변수(y)로 하고, petal_length(꽃잎 길이)를 독립변수(x)로 하는 단순 선형 회귀분석을 실시한 뒤 나온 R-squared 값과 회귀식을 구해 보세요\n"
   ]
  },
  {
   "cell_type": "code",
   "execution_count": null,
   "id": "cf8950cd",
   "metadata": {},
   "outputs": [],
   "source": []
  },
  {
   "cell_type": "code",
   "execution_count": null,
   "id": "92762541",
   "metadata": {},
   "outputs": [],
   "source": []
  },
  {
   "cell_type": "markdown",
   "id": "61935631",
   "metadata": {},
   "source": [
    "###### 4. test의 sepal_length(꽃받침 길이)를 종속변수(y)로 하고, 나머지 변수들을 독립변수로 하는 다중 회귀분석을 실시해 보세요. 모든 독립변수들이 95% 신뢰수준에서 통계적으로 유의한가요?\n"
   ]
  },
  {
   "cell_type": "code",
   "execution_count": null,
   "id": "1251284f",
   "metadata": {},
   "outputs": [],
   "source": []
  },
  {
   "cell_type": "code",
   "execution_count": null,
   "id": "ec0582ee",
   "metadata": {},
   "outputs": [],
   "source": []
  },
  {
   "cell_type": "code",
   "execution_count": null,
   "id": "b9a8545d",
   "metadata": {},
   "outputs": [],
   "source": []
  },
  {
   "cell_type": "code",
   "execution_count": null,
   "id": "b818539e",
   "metadata": {},
   "outputs": [],
   "source": []
  },
  {
   "cell_type": "code",
   "execution_count": null,
   "id": "38bf05a0",
   "metadata": {},
   "outputs": [],
   "source": []
  }
 ],
 "metadata": {
  "kernelspec": {
   "display_name": "Python 3 (ipykernel)",
   "language": "python",
   "name": "python3"
  },
  "language_info": {
   "codemirror_mode": {
    "name": "ipython",
    "version": 3
   },
   "file_extension": ".py",
   "mimetype": "text/x-python",
   "name": "python",
   "nbconvert_exporter": "python",
   "pygments_lexer": "ipython3",
   "version": "3.10.9"
  }
 },
 "nbformat": 4,
 "nbformat_minor": 5
}
