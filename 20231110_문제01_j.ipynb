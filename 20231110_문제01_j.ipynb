{
 "cells": [
  {
   "cell_type": "markdown",
   "id": "acd41e4d",
   "metadata": {},
   "source": [
    "###### 1. iris 데이터 셋에서 species가 virginica인 수치형 데이터만(1~4열) 필터링한 test라는 데이터 셋을 만들어 보세요."
   ]
  },
  {
   "cell_type": "code",
   "execution_count": 5,
   "id": "ec6e4c61",
   "metadata": {},
   "outputs": [],
   "source": [
    "import pandas as pd\n",
    "import seaborn as sns\n",
    "\n",
    "# iris 데이터셋 로드\n",
    "iris = sns.load_dataset('iris')\n"
   ]
  },
  {
   "cell_type": "code",
   "execution_count": 6,
   "id": "260227e9",
   "metadata": {},
   "outputs": [
    {
     "name": "stdout",
     "output_type": "stream",
     "text": [
      "<class 'pandas.core.frame.DataFrame'>\n",
      "RangeIndex: 150 entries, 0 to 149\n",
      "Data columns (total 5 columns):\n",
      " #   Column        Non-Null Count  Dtype  \n",
      "---  ------        --------------  -----  \n",
      " 0   sepal_length  150 non-null    float64\n",
      " 1   sepal_width   150 non-null    float64\n",
      " 2   petal_length  150 non-null    float64\n",
      " 3   petal_width   150 non-null    float64\n",
      " 4   species       150 non-null    object \n",
      "dtypes: float64(4), object(1)\n",
      "memory usage: 6.0+ KB\n"
     ]
    }
   ],
   "source": [
    "iris.info()"
   ]
  },
  {
   "cell_type": "code",
   "execution_count": 17,
   "id": "7b149057",
   "metadata": {},
   "outputs": [
    {
     "name": "stdout",
     "output_type": "stream",
     "text": [
      "     sepal_length  sepal_width  petal_length  petal_width\n",
      "100           6.3          3.3           6.0          2.5\n",
      "101           5.8          2.7           5.1          1.9\n",
      "102           7.1          3.0           5.9          2.1\n",
      "103           6.3          2.9           5.6          1.8\n",
      "104           6.5          3.0           5.8          2.2\n"
     ]
    }
   ],
   "source": [
    "# species가 'virginica'인 행들 선택 및 수치형 데이터만 필터링\n",
    "test = iris.loc[iris['species'] == 'virginica', iris.columns[0:4]]\n",
    "\n",
    "# 결과 확인\n",
    "print(test.head())"
   ]
  },
  {
   "cell_type": "markdown",
   "id": "92a48755",
   "metadata": {},
   "source": [
    "다음은 iris 데이터셋에서 species가 'virginica'인 행들의 수치형 데이터(1~4열)만을 포함하는 데이터프레임인 test를 만들기 위한 코드입니다. \n",
    "이를 위해 Pandas 라이브러리를 사용합니다.\n",
    "\n",
    "python Copy code\n",
    "\n",
    "import pandas as pd\n",
    "import seaborn as sns\n",
    "\n",
    " iris 데이터셋 로드\n",
    "iris = sns.load_dataset('iris')\n",
    "\n",
    "species가 'virginica'인 행들 선택 및 수치형 데이터만 필터링\n",
    "test = iris.loc[iris['species'] == 'virginica', iris.columns[0:4]]\n",
    "\n",
    "결과 확인\n",
    "print(test)    \n",
    "\n",
    "\n",
    "이 코드에서:\n",
    "\n",
    "iris['species'] == 'virginica'는 species 열이 'virginica'인 행들을 선택합니다.\n",
    "iris.columns[0:4]는 0부터 3까지(4 미만)의 열을 선택하여 수치형 데이터만을 가져옵니다.\n",
    "\n",
    "loc 함수를 사용하여 조건에 맞는 행과 열을 선택하여 새로운 데이터프레임인 test를 만듭니다.\n",
    "\n",
    "결과적으로 test 데이터프레임에는 species가 'virginica'이고, 1~4열에 해당하는 수치형 데이터만이 포함됩니다.\n"
   ]
  },
  {
   "cell_type": "code",
   "execution_count": null,
   "id": "eeda9f87",
   "metadata": {},
   "outputs": [],
   "source": []
  },
  {
   "cell_type": "markdown",
   "id": "37bed9bb",
   "metadata": {},
   "source": [
    "###### 2. test의 sepal_length(꽃받침 길이)와 나머지 변수들이 어떤 상관관계가 있는지 상관분석을 해보세요. 그 중 가장 상관계수가 높은 변수는 무엇인가요?\n"
   ]
  },
  {
   "cell_type": "code",
   "execution_count": 8,
   "id": "e0d976d5",
   "metadata": {},
   "outputs": [
    {
     "name": "stdout",
     "output_type": "stream",
     "text": [
      "sepal_length    1.000000\n",
      "sepal_width     0.457228\n",
      "petal_length    0.864225\n",
      "petal_width     0.281108\n",
      "Name: sepal_length, dtype: float64\n"
     ]
    },
    {
     "data": {
      "text/plain": [
       "sepal_length    1.000000\n",
       "sepal_width     0.457228\n",
       "petal_length    0.864225\n",
       "petal_width     0.281108\n",
       "Name: sepal_length, dtype: float64"
      ]
     },
     "execution_count": 8,
     "metadata": {},
     "output_type": "execute_result"
    }
   ],
   "source": [
    "import pandas as pd\n",
    "import seaborn as sns\n",
    "\n",
    "# iris 데이터셋 로드\n",
    "iris = sns.load_dataset('iris')\n",
    "\n",
    "# species가 'virginica'인 행들 선택 및 수치형 데이터만 필터링\n",
    "test = iris.loc[iris['species'] == 'virginica', iris.columns[0:4]]\n",
    "\n",
    "# sepal_length(꽃받침 길이)와 다른 변수들 간의 상관관계 계산\n",
    "correlation_matrix = test.corr()\n",
    "\n",
    "# 결과 확인\n",
    "print(correlation_matrix['sepal_length'])\n",
    "\n",
    "correlation_matrix['sepal_length']"
   ]
  },
  {
   "cell_type": "code",
   "execution_count": null,
   "id": "0fff3212",
   "metadata": {},
   "outputs": [],
   "source": []
  },
  {
   "cell_type": "markdown",
   "id": "d5de0f0e",
   "metadata": {},
   "source": [
    "###### 3. test의 sepal_length(꽃받침 길이)를 종속변수(y)로 하고, petal_length(꽃잎 길이)를 독립변수(x)로 하는 단순 선형 회귀분석을 실시한 뒤 나온 R-squared 값과 회귀식을 구해 보세요\n"
   ]
  },
  {
   "cell_type": "code",
   "execution_count": 9,
   "id": "cf8950cd",
   "metadata": {},
   "outputs": [
    {
     "name": "stdout",
     "output_type": "stream",
     "text": [
      "                            OLS Regression Results                            \n",
      "==============================================================================\n",
      "Dep. Variable:           sepal_length   R-squared:                       0.747\n",
      "Model:                            OLS   Adj. R-squared:                  0.742\n",
      "Method:                 Least Squares   F-statistic:                     141.6\n",
      "Date:                Fri, 10 Nov 2023   Prob (F-statistic):           6.30e-16\n",
      "Time:                        14:35:14   Log-Likelihood:                -13.457\n",
      "No. Observations:                  50   AIC:                             30.91\n",
      "Df Residuals:                      48   BIC:                             34.74\n",
      "Df Model:                           1                                         \n",
      "Covariance Type:            nonrobust                                         \n",
      "================================================================================\n",
      "                   coef    std err          t      P>|t|      [0.025      0.975]\n",
      "--------------------------------------------------------------------------------\n",
      "const            1.0597      0.467      2.270      0.028       0.121       1.998\n",
      "petal_length     0.9957      0.084     11.901      0.000       0.828       1.164\n",
      "==============================================================================\n",
      "Omnibus:                        0.060   Durbin-Watson:                   1.913\n",
      "Prob(Omnibus):                  0.970   Jarque-Bera (JB):                0.256\n",
      "Skew:                           0.015   Prob(JB):                        0.880\n",
      "Kurtosis:                       2.651   Cond. No.                         58.8\n",
      "==============================================================================\n",
      "\n",
      "Notes:\n",
      "[1] Standard Errors assume that the covariance matrix of the errors is correctly specified.\n"
     ]
    }
   ],
   "source": [
    "import statsmodels.api as sm\n",
    "import pandas as pd\n",
    "import seaborn as sns\n",
    "\n",
    "# iris 데이터셋 로드\n",
    "iris = sns.load_dataset('iris')\n",
    "\n",
    "# species가 'virginica'인 행들 선택 및 수치형 데이터만 필터링\n",
    "test = iris.loc[iris['species'] == 'virginica', ['sepal_length', 'petal_length']]\n",
    "\n",
    "# 독립변수(x)와 종속변수(y) 설정\n",
    "x = test['petal_length']\n",
    "y = test['sepal_length']\n",
    "\n",
    "# 상수항 추가\n",
    "x = sm.add_constant(x)\n",
    "\n",
    "# 모델 생성 및 피팅\n",
    "model = sm.OLS(y, x)\n",
    "result = model.fit()\n",
    "\n",
    "# 회귀분석 결과 출력\n",
    "print(result.summary())"
   ]
  },
  {
   "cell_type": "markdown",
   "id": "d26d1420",
   "metadata": {},
   "source": [
    "###### 3. test의 sepal_length(꽃받침 길이)를 종속변수(y)로 하고, petal_length(꽃잎 길이)를 독립변수(x)로 하는 단순 선형 회귀분석을 실시한 뒤 나온 R-squared 값과 회귀식을 구해 보세요\n"
   ]
  },
  {
   "cell_type": "code",
   "execution_count": 13,
   "id": "92762541",
   "metadata": {},
   "outputs": [
    {
     "data": {
      "text/html": [
       "<table class=\"simpletable\">\n",
       "<caption>OLS Regression Results</caption>\n",
       "<tr>\n",
       "  <th>Dep. Variable:</th>      <td>sepal_length</td>   <th>  R-squared:         </th> <td>   0.747</td>\n",
       "</tr>\n",
       "<tr>\n",
       "  <th>Model:</th>                   <td>OLS</td>       <th>  Adj. R-squared:    </th> <td>   0.742</td>\n",
       "</tr>\n",
       "<tr>\n",
       "  <th>Method:</th>             <td>Least Squares</td>  <th>  F-statistic:       </th> <td>   141.6</td>\n",
       "</tr>\n",
       "<tr>\n",
       "  <th>Date:</th>             <td>Fri, 10 Nov 2023</td> <th>  Prob (F-statistic):</th> <td>6.30e-16</td>\n",
       "</tr>\n",
       "<tr>\n",
       "  <th>Time:</th>                 <td>14:57:22</td>     <th>  Log-Likelihood:    </th> <td> -13.457</td>\n",
       "</tr>\n",
       "<tr>\n",
       "  <th>No. Observations:</th>      <td>    50</td>      <th>  AIC:               </th> <td>   30.91</td>\n",
       "</tr>\n",
       "<tr>\n",
       "  <th>Df Residuals:</th>          <td>    48</td>      <th>  BIC:               </th> <td>   34.74</td>\n",
       "</tr>\n",
       "<tr>\n",
       "  <th>Df Model:</th>              <td>     1</td>      <th>                     </th>     <td> </td>   \n",
       "</tr>\n",
       "<tr>\n",
       "  <th>Covariance Type:</th>      <td>nonrobust</td>    <th>                     </th>     <td> </td>   \n",
       "</tr>\n",
       "</table>\n",
       "<table class=\"simpletable\">\n",
       "<tr>\n",
       "        <td></td>          <th>coef</th>     <th>std err</th>      <th>t</th>      <th>P>|t|</th>  <th>[0.025</th>    <th>0.975]</th>  \n",
       "</tr>\n",
       "<tr>\n",
       "  <th>Intercept</th>    <td>    1.0597</td> <td>    0.467</td> <td>    2.270</td> <td> 0.028</td> <td>    0.121</td> <td>    1.998</td>\n",
       "</tr>\n",
       "<tr>\n",
       "  <th>petal_length</th> <td>    0.9957</td> <td>    0.084</td> <td>   11.901</td> <td> 0.000</td> <td>    0.828</td> <td>    1.164</td>\n",
       "</tr>\n",
       "</table>\n",
       "<table class=\"simpletable\">\n",
       "<tr>\n",
       "  <th>Omnibus:</th>       <td> 0.060</td> <th>  Durbin-Watson:     </th> <td>   1.913</td>\n",
       "</tr>\n",
       "<tr>\n",
       "  <th>Prob(Omnibus):</th> <td> 0.970</td> <th>  Jarque-Bera (JB):  </th> <td>   0.256</td>\n",
       "</tr>\n",
       "<tr>\n",
       "  <th>Skew:</th>          <td> 0.015</td> <th>  Prob(JB):          </th> <td>   0.880</td>\n",
       "</tr>\n",
       "<tr>\n",
       "  <th>Kurtosis:</th>      <td> 2.651</td> <th>  Cond. No.          </th> <td>    58.8</td>\n",
       "</tr>\n",
       "</table><br/><br/>Notes:<br/>[1] Standard Errors assume that the covariance matrix of the errors is correctly specified."
      ],
      "text/plain": [
       "<class 'statsmodels.iolib.summary.Summary'>\n",
       "\"\"\"\n",
       "                            OLS Regression Results                            \n",
       "==============================================================================\n",
       "Dep. Variable:           sepal_length   R-squared:                       0.747\n",
       "Model:                            OLS   Adj. R-squared:                  0.742\n",
       "Method:                 Least Squares   F-statistic:                     141.6\n",
       "Date:                Fri, 10 Nov 2023   Prob (F-statistic):           6.30e-16\n",
       "Time:                        14:57:22   Log-Likelihood:                -13.457\n",
       "No. Observations:                  50   AIC:                             30.91\n",
       "Df Residuals:                      48   BIC:                             34.74\n",
       "Df Model:                           1                                         \n",
       "Covariance Type:            nonrobust                                         \n",
       "================================================================================\n",
       "                   coef    std err          t      P>|t|      [0.025      0.975]\n",
       "--------------------------------------------------------------------------------\n",
       "Intercept        1.0597      0.467      2.270      0.028       0.121       1.998\n",
       "petal_length     0.9957      0.084     11.901      0.000       0.828       1.164\n",
       "==============================================================================\n",
       "Omnibus:                        0.060   Durbin-Watson:                   1.913\n",
       "Prob(Omnibus):                  0.970   Jarque-Bera (JB):                0.256\n",
       "Skew:                           0.015   Prob(JB):                        0.880\n",
       "Kurtosis:                       2.651   Cond. No.                         58.8\n",
       "==============================================================================\n",
       "\n",
       "Notes:\n",
       "[1] Standard Errors assume that the covariance matrix of the errors is correctly specified.\n",
       "\"\"\""
      ]
     },
     "execution_count": 13,
     "metadata": {},
     "output_type": "execute_result"
    }
   ],
   "source": [
    "# 회귀분석 수행을 위한 모듈 불러오기 및 smf로 지칭하기\n",
    "import statsmodels.formula.api as smf\n",
    "\n",
    "# 단순선형회귀모델 구축\n",
    "model_lm3 = smf.ols(formula = 'sepal_length ~ petal_length', data =test)\n",
    "\n",
    "result_lm3 = model_lm3.fit()\n",
    "result_lm3.summary()\n",
    "\n"
   ]
  },
  {
   "cell_type": "markdown",
   "id": "61935631",
   "metadata": {},
   "source": [
    "###### 4. test의 sepal_length(꽃받침 길이)를 종속변수(y)로 하고, 나머지 변수들을 독립변수로 하는 다중 회귀분석을 실시해 보세요. \n",
    "모든 독립변수들이 95% 신뢰수준에서 통계적으로 유의한가요?\n"
   ]
  },
  {
   "cell_type": "code",
   "execution_count": 16,
   "id": "1251284f",
   "metadata": {},
   "outputs": [
    {
     "data": {
      "text/html": [
       "<table class=\"simpletable\">\n",
       "<caption>OLS Regression Results</caption>\n",
       "<tr>\n",
       "  <th>Dep. Variable:</th>      <td>sepal_length</td>   <th>  R-squared:         </th> <td>   0.765</td>\n",
       "</tr>\n",
       "<tr>\n",
       "  <th>Model:</th>                   <td>OLS</td>       <th>  Adj. R-squared:    </th> <td>   0.750</td>\n",
       "</tr>\n",
       "<tr>\n",
       "  <th>Method:</th>             <td>Least Squares</td>  <th>  F-statistic:       </th> <td>   49.98</td>\n",
       "</tr>\n",
       "<tr>\n",
       "  <th>Date:</th>             <td>Fri, 10 Nov 2023</td> <th>  Prob (F-statistic):</th> <td>1.62e-14</td>\n",
       "</tr>\n",
       "<tr>\n",
       "  <th>Time:</th>                 <td>15:02:13</td>     <th>  Log-Likelihood:    </th> <td> -11.577</td>\n",
       "</tr>\n",
       "<tr>\n",
       "  <th>No. Observations:</th>      <td>    50</td>      <th>  AIC:               </th> <td>   31.15</td>\n",
       "</tr>\n",
       "<tr>\n",
       "  <th>Df Residuals:</th>          <td>    46</td>      <th>  BIC:               </th> <td>   38.80</td>\n",
       "</tr>\n",
       "<tr>\n",
       "  <th>Df Model:</th>              <td>     3</td>      <th>                     </th>     <td> </td>   \n",
       "</tr>\n",
       "<tr>\n",
       "  <th>Covariance Type:</th>      <td>nonrobust</td>    <th>                     </th>     <td> </td>   \n",
       "</tr>\n",
       "</table>\n",
       "<table class=\"simpletable\">\n",
       "<tr>\n",
       "        <td></td>          <th>coef</th>     <th>std err</th>      <th>t</th>      <th>P>|t|</th>  <th>[0.025</th>    <th>0.975]</th>  \n",
       "</tr>\n",
       "<tr>\n",
       "  <th>Intercept</th>    <td>    0.6999</td> <td>    0.534</td> <td>    1.312</td> <td> 0.196</td> <td>   -0.374</td> <td>    1.774</td>\n",
       "</tr>\n",
       "<tr>\n",
       "  <th>sepal_width</th>  <td>    0.3303</td> <td>    0.174</td> <td>    1.895</td> <td> 0.064</td> <td>   -0.021</td> <td>    0.681</td>\n",
       "</tr>\n",
       "<tr>\n",
       "  <th>petal_length</th> <td>    0.9455</td> <td>    0.091</td> <td>   10.422</td> <td> 0.000</td> <td>    0.763</td> <td>    1.128</td>\n",
       "</tr>\n",
       "<tr>\n",
       "  <th>petal_width</th>  <td>   -0.1698</td> <td>    0.198</td> <td>   -0.857</td> <td> 0.396</td> <td>   -0.568</td> <td>    0.229</td>\n",
       "</tr>\n",
       "</table>\n",
       "<table class=\"simpletable\">\n",
       "<tr>\n",
       "  <th>Omnibus:</th>       <td> 0.056</td> <th>  Durbin-Watson:     </th> <td>   1.887</td>\n",
       "</tr>\n",
       "<tr>\n",
       "  <th>Prob(Omnibus):</th> <td> 0.973</td> <th>  Jarque-Bera (JB):  </th> <td>   0.039</td>\n",
       "</tr>\n",
       "<tr>\n",
       "  <th>Skew:</th>          <td> 0.032</td> <th>  Prob(JB):          </th> <td>   0.981</td>\n",
       "</tr>\n",
       "<tr>\n",
       "  <th>Kurtosis:</th>      <td> 2.879</td> <th>  Cond. No.          </th> <td>    80.7</td>\n",
       "</tr>\n",
       "</table><br/><br/>Notes:<br/>[1] Standard Errors assume that the covariance matrix of the errors is correctly specified."
      ],
      "text/plain": [
       "<class 'statsmodels.iolib.summary.Summary'>\n",
       "\"\"\"\n",
       "                            OLS Regression Results                            \n",
       "==============================================================================\n",
       "Dep. Variable:           sepal_length   R-squared:                       0.765\n",
       "Model:                            OLS   Adj. R-squared:                  0.750\n",
       "Method:                 Least Squares   F-statistic:                     49.98\n",
       "Date:                Fri, 10 Nov 2023   Prob (F-statistic):           1.62e-14\n",
       "Time:                        15:02:13   Log-Likelihood:                -11.577\n",
       "No. Observations:                  50   AIC:                             31.15\n",
       "Df Residuals:                      46   BIC:                             38.80\n",
       "Df Model:                           3                                         \n",
       "Covariance Type:            nonrobust                                         \n",
       "================================================================================\n",
       "                   coef    std err          t      P>|t|      [0.025      0.975]\n",
       "--------------------------------------------------------------------------------\n",
       "Intercept        0.6999      0.534      1.312      0.196      -0.374       1.774\n",
       "sepal_width      0.3303      0.174      1.895      0.064      -0.021       0.681\n",
       "petal_length     0.9455      0.091     10.422      0.000       0.763       1.128\n",
       "petal_width     -0.1698      0.198     -0.857      0.396      -0.568       0.229\n",
       "==============================================================================\n",
       "Omnibus:                        0.056   Durbin-Watson:                   1.887\n",
       "Prob(Omnibus):                  0.973   Jarque-Bera (JB):                0.039\n",
       "Skew:                           0.032   Prob(JB):                        0.981\n",
       "Kurtosis:                       2.879   Cond. No.                         80.7\n",
       "==============================================================================\n",
       "\n",
       "Notes:\n",
       "[1] Standard Errors assume that the covariance matrix of the errors is correctly specified.\n",
       "\"\"\""
      ]
     },
     "execution_count": 16,
     "metadata": {},
     "output_type": "execute_result"
    }
   ],
   "source": [
    "# 회귀분석 수행을 위한 모듈 불러오기 및 smf로 지칭하기\n",
    "import statsmodels.formula.api as smf\n",
    "\n",
    "# 다중선형회귀모델 구축\n",
    "\n",
    "model_mlm = smf.ols(formula = 'sepal_length~sepal_width + petal_length + petal_width ', data = test)\n",
    "result_min = model_mlm.fit()\n",
    "result_min.summary()\n",
    "        \n",
    "   "
   ]
  },
  {
   "cell_type": "code",
   "execution_count": 15,
   "id": "ec0582ee",
   "metadata": {},
   "outputs": [],
   "source": [
    "import pandas as pd\n",
    "import matplotlib.pyplot as plt\n",
    "plt.rc('font', family='Malgun Gothic')                 # 한글처리위함\n",
    "plt.rcParams['axes.unicode_minus'] = False    #축의 음수 기호 표시\n"
   ]
  },
  {
   "cell_type": "code",
   "execution_count": null,
   "id": "b9a8545d",
   "metadata": {},
   "outputs": [],
   "source": [
    "plt.scatter(w3.day, w3.weight, alpha = .5)\n",
    "\n",
    "plt.title('Scatter Plot')\n",
    "plt.xlabel('day')\n",
    "plt.ylabel('weight')\n",
    "plt.show()"
   ]
  },
  {
   "cell_type": "code",
   "execution_count": null,
   "id": "b818539e",
   "metadata": {},
   "outputs": [],
   "source": []
  },
  {
   "cell_type": "code",
   "execution_count": null,
   "id": "38bf05a0",
   "metadata": {},
   "outputs": [],
   "source": []
  }
 ],
 "metadata": {
  "kernelspec": {
   "display_name": "Python 3 (ipykernel)",
   "language": "python",
   "name": "python3"
  },
  "language_info": {
   "codemirror_mode": {
    "name": "ipython",
    "version": 3
   },
   "file_extension": ".py",
   "mimetype": "text/x-python",
   "name": "python",
   "nbconvert_exporter": "python",
   "pygments_lexer": "ipython3",
   "version": "3.10.9"
  }
 },
 "nbformat": 4,
 "nbformat_minor": 5
}
