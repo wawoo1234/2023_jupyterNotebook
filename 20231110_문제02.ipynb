{
 "cells": [
  {
   "cell_type": "code",
   "execution_count": null,
   "id": "e524da0d",
   "metadata": {},
   "outputs": [],
   "source": [
    "## 자동차 사고(Car Crash)에 관한 DataSet \n",
    "\n",
    "### Total : 총 사고 횟수\n",
    "### Speeding : 과속 사고 평균\n",
    "### Alchol : 음주 사고의 평균\n",
    "### Not_distracted : 부주의 사고 평균\n",
    "### No_previous : 첫 사고 평균 \n",
    "### ins_premium : 보험료\n",
    "### ins_losses : 보험 손실(?)\n",
    "### abbrev : 지역명약자\n"
   ]
  },
  {
   "cell_type": "code",
   "execution_count": null,
   "id": "9ed43d2b",
   "metadata": {},
   "outputs": [],
   "source": []
  },
  {
   "cell_type": "markdown",
   "id": "b727eab3",
   "metadata": {},
   "source": [
    "###### 1. CarCrash 데이터 셋을 로드하여 df1에 저장하여 보세요\n"
   ]
  },
  {
   "cell_type": "code",
   "execution_count": null,
   "id": "89ae3d90",
   "metadata": {},
   "outputs": [],
   "source": []
  },
  {
   "cell_type": "code",
   "execution_count": null,
   "id": "f0edfbd4",
   "metadata": {},
   "outputs": [],
   "source": []
  },
  {
   "cell_type": "markdown",
   "id": "0ac97bac",
   "metadata": {},
   "source": [
    "###### 2. df1에서 1~5열만 필터링한 df2라는 데이터 셋을 만들어 보세요.\n"
   ]
  },
  {
   "cell_type": "code",
   "execution_count": null,
   "id": "9310854c",
   "metadata": {},
   "outputs": [],
   "source": []
  },
  {
   "cell_type": "code",
   "execution_count": null,
   "id": "dac8be7a",
   "metadata": {},
   "outputs": [],
   "source": []
  },
  {
   "cell_type": "markdown",
   "id": "473eacd7",
   "metadata": {},
   "source": [
    "###### 3. 변수들 사이에 어떤 상관관계가 있는지 상관분석을 해보세요.(상관분석 결과를 dfm 변수에 저장).     no_previous 변수와 가장 상관계수가 높은 변수는 무엇인가요?\n"
   ]
  },
  {
   "cell_type": "code",
   "execution_count": null,
   "id": "4d9c6f1a",
   "metadata": {},
   "outputs": [],
   "source": []
  },
  {
   "cell_type": "code",
   "execution_count": null,
   "id": "aabb4c64",
   "metadata": {},
   "outputs": [],
   "source": []
  },
  {
   "cell_type": "markdown",
   "id": "020b4b28",
   "metadata": {},
   "source": [
    "###### 4. dfm 의 데이터로 산점도를 그려보세요\n"
   ]
  },
  {
   "cell_type": "code",
   "execution_count": null,
   "id": "85aaaea3",
   "metadata": {},
   "outputs": [],
   "source": []
  },
  {
   "cell_type": "code",
   "execution_count": null,
   "id": "1959e391",
   "metadata": {},
   "outputs": [],
   "source": []
  },
  {
   "cell_type": "markdown",
   "id": "feac1b88",
   "metadata": {},
   "source": [
    "###### 5. df2 의 no_previous(처음 사고)를 종속변수(y)로 하고, alcohol 과 not_distracted 를 독립변수(x)로 하는 다중 선형 회귀분석을 실시한 뒤 나온 R-squared 값과 회귀식을 구해 보세요\n"
   ]
  },
  {
   "cell_type": "code",
   "execution_count": null,
   "id": "4362e1cf",
   "metadata": {},
   "outputs": [],
   "source": []
  },
  {
   "cell_type": "code",
   "execution_count": null,
   "id": "abd01983",
   "metadata": {},
   "outputs": [],
   "source": []
  },
  {
   "cell_type": "code",
   "execution_count": null,
   "id": "45c5e356",
   "metadata": {},
   "outputs": [],
   "source": []
  }
 ],
 "metadata": {
  "kernelspec": {
   "display_name": "Python 3 (ipykernel)",
   "language": "python",
   "name": "python3"
  },
  "language_info": {
   "codemirror_mode": {
    "name": "ipython",
    "version": 3
   },
   "file_extension": ".py",
   "mimetype": "text/x-python",
   "name": "python",
   "nbconvert_exporter": "python",
   "pygments_lexer": "ipython3",
   "version": "3.10.9"
  }
 },
 "nbformat": 4,
 "nbformat_minor": 5
}
